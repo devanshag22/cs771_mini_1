{
 "cells": [
  {
   "cell_type": "code",
   "execution_count": 4,
   "metadata": {},
   "outputs": [],
   "source": [
    "import numpy as np\n",
    "import pandas as pd\n",
    "from sklearn.model_selection import train_test_split\n",
    "from sklearn.decomposition import PCA\n",
    "from sklearn.preprocessing import StandardScaler\n",
    "from sklearn.metrics import accuracy_score"
   ]
  },
  {
   "cell_type": "code",
   "execution_count": 36,
   "metadata": {},
   "outputs": [],
   "source": [
    "train_feat = np.load(\"datasets/train/train_feature.npz\", allow_pickle=True)\n",
    "train_feat_X = train_feat['features']\n",
    "train_feat_Y = train_feat['label']\n",
    "val_feat = np.load(\"datasets/valid/valid_feature.npz\", allow_pickle=True)\n",
    "val_feat_X = val_feat['features']\n",
    "val_feat_Y = val_feat['label']"
   ]
  },
  {
   "cell_type": "code",
   "execution_count": 37,
   "metadata": {},
   "outputs": [],
   "source": [
    "# flatten the features  \n",
    "train_feat_X = np.array([x.flatten() for x in train_feat_X])\n",
    "val_feat_X = np.array([x.flatten() for x in val_feat_X])"
   ]
  },
  {
   "cell_type": "code",
   "execution_count": 38,
   "metadata": {},
   "outputs": [
    {
     "name": "stdout",
     "output_type": "stream",
     "text": [
      "Accuracy: 98.36%\n"
     ]
    }
   ],
   "source": [
    "#apply xgboost\n",
    "from xgboost import XGBClassifier\n",
    "model = XGBClassifier()\n",
    "model.fit(train_feat_X, train_feat_Y)\n",
    "y_pred = model.predict(val_feat_X)\n",
    "accuracy = accuracy_score(val_feat_Y, y_pred)\n",
    "print(\"Accuracy: %.2f%%\" % (accuracy * 100.0))\n"
   ]
  },
  {
   "cell_type": "code",
   "execution_count": 31,
   "metadata": {},
   "outputs": [],
   "source": [
    "scaler = StandardScaler()\n",
    "X_scaled = scaler.fit_transform(train_feat_X)\n",
    "\n",
    "pca = PCA(n_components=131)  \n",
    "X_pca = pca.fit_transform(X_scaled)"
   ]
  },
  {
   "cell_type": "code",
   "execution_count": 32,
   "metadata": {},
   "outputs": [
    {
     "name": "stdout",
     "output_type": "stream",
     "text": [
      "(7080, 131)\n"
     ]
    }
   ],
   "source": [
    "print(X_pca.shape)"
   ]
  },
  {
   "cell_type": "code",
   "execution_count": 33,
   "metadata": {},
   "outputs": [
    {
     "name": "stdout",
     "output_type": "stream",
     "text": [
      "Accuracy: 0.983640081799591\n"
     ]
    }
   ],
   "source": [
    "# Apply XG boost classifier\n",
    "from xgboost import XGBClassifier\n",
    "model = XGBClassifier()\n",
    "model.fit(X_pca, train_feat_Y)\n",
    "\n",
    "# Predict the validation set\n",
    "val_scaled = scaler.transform(val_feat_X)\n",
    "val_pca = pca.transform(val_scaled)\n",
    "val_pred = model.predict(val_pca)\n",
    "\n",
    "# Calculate the accuracy\n",
    "accuracy = accuracy_score(val_feat_Y, val_pred)\n",
    "print(f\"Accuracy: {accuracy}\")"
   ]
  },
  {
   "cell_type": "code",
   "execution_count": 35,
   "metadata": {},
   "outputs": [
    {
     "name": "stdout",
     "output_type": "stream",
     "text": [
      "Accuracy: 0.9529652351738241\n"
     ]
    }
   ],
   "source": [
    "# Apply adaboost classifier\n",
    "from sklearn.ensemble import AdaBoostClassifier\n",
    "model = AdaBoostClassifier()\n",
    "model.fit(X_pca, train_feat_Y)\n",
    "\n",
    "# Predict the validation set\n",
    "val_pred = model.predict(val_pca)\n",
    "\n",
    "# Calculate the accuracy\n",
    "accuracy = accuracy_score(val_feat_Y, val_pred)\n",
    "print(f\"Accuracy: {accuracy}\")"
   ]
  },
  {
   "cell_type": "code",
   "execution_count": 34,
   "metadata": {},
   "outputs": [
    {
     "name": "stdout",
     "output_type": "stream",
     "text": [
      "Accuracy: 0.8997955010224948\n"
     ]
    }
   ],
   "source": [
    "# import randomforest classifier and train using the pca reduced dat\n",
    "from sklearn.ensemble import RandomForestClassifier\n",
    "model = RandomForestClassifier(n_estimators=100, max_depth=2, random_state=0)\n",
    "model.fit(X_pca, train_feat_Y)\n",
    "\n",
    "# Predict the validation set\n",
    "val_pred = model.predict(val_pca)\n",
    "\n",
    "# Calculate the accuracy\n",
    "accuracy = accuracy_score(val_feat_Y, val_pred)\n",
    "print(f\"Accuracy: {accuracy}\")\n"
   ]
  },
  {
   "cell_type": "code",
   "execution_count": 63,
   "metadata": {},
   "outputs": [],
   "source": [
    "X_train_20, X_test_20, y_train_20, y_test_20 = train_test_split(train_feat_X, train_feat_Y, test_size=0.8, random_state=42)\n",
    "X_train_40, X_test_40, y_train_40, y_test_40 = train_test_split(train_feat_X, train_feat_Y, test_size=0.6, random_state=42)\n",
    "X_train_60, X_test_60, y_train_60, y_test_60 = train_test_split(train_feat_X, train_feat_Y, test_size=0.4, random_state=42)\n",
    "X_train_80, X_test_80, y_train_80, y_test_80 = train_test_split(train_feat_X, train_feat_Y, test_size=0.2, random_state=42)"
   ]
  },
  {
   "cell_type": "code",
   "execution_count": 68,
   "metadata": {},
   "outputs": [
    {
     "name": "stdout",
     "output_type": "stream",
     "text": [
      "Accuracy 20%:  0.9631901840490797\n",
      "Accuracy 40%:  0.9652351738241309\n",
      "Accuracy 60%:  0.9775051124744376\n",
      "Accuracy 80%:  0.9856850715746421\n",
      "Accuracy 100%:  0.9897750511247444\n"
     ]
    }
   ],
   "source": [
    "print(\"Accuracy 20%: \", accuracy_score(val_feat_Y, y1))\n",
    "print(\"Accuracy 40%: \", accuracy_score(val_feat_Y, y2))\n",
    "print(\"Accuracy 60%: \", accuracy_score(val_feat_Y, y3))\n",
    "print(\"Accuracy 80%: \", accuracy_score(val_feat_Y, y4))\n",
    "print(\"Accuracy 100%: \", accuracy_score(val_feat_Y, y5))"
   ]
  }
 ],
 "metadata": {
  "kernelspec": {
   "display_name": "Python 3",
   "language": "python",
   "name": "python3"
  },
  "language_info": {
   "codemirror_mode": {
    "name": "ipython",
    "version": 3
   },
   "file_extension": ".py",
   "mimetype": "text/x-python",
   "name": "python",
   "nbconvert_exporter": "python",
   "pygments_lexer": "ipython3",
   "version": "3.11.5"
  }
 },
 "nbformat": 4,
 "nbformat_minor": 2
}
