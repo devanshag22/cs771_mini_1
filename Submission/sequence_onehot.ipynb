{
 "cells": [
  {
   "cell_type": "code",
   "execution_count": 1,
   "metadata": {},
   "outputs": [],
   "source": [
    "import pandas as pd\n",
    "import numpy as np"
   ]
  },
  {
   "cell_type": "code",
   "execution_count": 2,
   "metadata": {},
   "outputs": [],
   "source": [
    "# read text sequence dataset\n",
    "train_seq_df = pd.read_csv(\"datasets/train/train_text_seq.csv\")\n",
    "train_seq_Y = train_seq_df['label']\n",
    "\n",
    "val_seq_df = pd.read_csv(\"datasets/valid/valid_text_seq.csv\")\n",
    "val_seq_Y = val_seq_df['label']"
   ]
  },
  {
   "cell_type": "code",
   "execution_count": 3,
   "metadata": {},
   "outputs": [
    {
     "data": {
      "text/html": [
       "<div>\n",
       "<style scoped>\n",
       "    .dataframe tbody tr th:only-of-type {\n",
       "        vertical-align: middle;\n",
       "    }\n",
       "\n",
       "    .dataframe tbody tr th {\n",
       "        vertical-align: top;\n",
       "    }\n",
       "\n",
       "    .dataframe thead th {\n",
       "        text-align: right;\n",
       "    }\n",
       "</style>\n",
       "<table border=\"1\" class=\"dataframe\">\n",
       "  <thead>\n",
       "    <tr style=\"text-align: right;\">\n",
       "      <th></th>\n",
       "      <th>input_str</th>\n",
       "      <th>label</th>\n",
       "    </tr>\n",
       "  </thead>\n",
       "  <tbody>\n",
       "    <tr>\n",
       "      <th>0</th>\n",
       "      <td>0000154364642718159661428002624223132284159626...</td>\n",
       "      <td>0</td>\n",
       "    </tr>\n",
       "    <tr>\n",
       "      <th>1</th>\n",
       "      <td>0004641596369515436422262614110471596262476161...</td>\n",
       "      <td>0</td>\n",
       "    </tr>\n",
       "    <tr>\n",
       "      <th>2</th>\n",
       "      <td>0001543626215965999614422464135806142624051159...</td>\n",
       "      <td>0</td>\n",
       "    </tr>\n",
       "    <tr>\n",
       "      <th>3</th>\n",
       "      <td>0000154364224641238614262159689561596284351061...</td>\n",
       "      <td>1</td>\n",
       "    </tr>\n",
       "    <tr>\n",
       "      <th>4</th>\n",
       "      <td>0004641899422154362069015966142624761262159661...</td>\n",
       "      <td>1</td>\n",
       "    </tr>\n",
       "  </tbody>\n",
       "</table>\n",
       "</div>"
      ],
      "text/plain": [
       "                                           input_str  label\n",
       "0  0000154364642718159661428002624223132284159626...      0\n",
       "1  0004641596369515436422262614110471596262476161...      0\n",
       "2  0001543626215965999614422464135806142624051159...      0\n",
       "3  0000154364224641238614262159689561596284351061...      1\n",
       "4  0004641899422154362069015966142624761262159661...      1"
      ]
     },
     "execution_count": 3,
     "metadata": {},
     "output_type": "execute_result"
    }
   ],
   "source": [
    "train_seq_df.head()"
   ]
  },
  {
   "cell_type": "code",
   "execution_count": 12,
   "metadata": {},
   "outputs": [
    {
     "name": "stdout",
     "output_type": "stream",
     "text": [
      "(7080, 500)\n"
     ]
    }
   ],
   "source": [
    "split_columns = train_seq_df['input_str'].apply(lambda x: pd.Series(list(x)))\n",
    "split_columns.columns = [f'col_{i+1}' for i in range(50)]\n",
    "\n",
    "train_X = pd.DataFrame()\n",
    "\n",
    "# One-hot encode each column, ensuring all 500 columns are created\n",
    "for i in range(50):\n",
    "    # Create 10 columns for digits 0-9 for each original column position\n",
    "    one_hot = pd.get_dummies(split_columns[f'col_{i+1}'], prefix=f'col_{i+1}')\n",
    "    \n",
    "    # Ensure all columns 'col_i_0' to 'col_i_9' are present, filling missing ones with 0\n",
    "    for j in range(10):\n",
    "        column_name = f'col_{i+1}_{j}'\n",
    "        if column_name not in one_hot:\n",
    "            one_hot[column_name] = 0\n",
    "    \n",
    "    # Add the one-hot encoded columns for this position to the final dataframe\n",
    "    train_X = pd.concat([train_X, one_hot], axis=1)\n",
    "\n",
    "# Ensure the columns are in the correct order (col_1_0, col_1_1, ..., col_50_9)\n",
    "train_X = train_X[sorted(train_X.columns, key=lambda x: (int(x.split('_')[1]), int(x.split('_')[2])))]\n",
    "\n",
    "print(train_X.shape)\n"
   ]
  },
  {
   "cell_type": "code",
   "execution_count": 14,
   "metadata": {},
   "outputs": [
    {
     "data": {
      "text/html": [
       "<div>\n",
       "<style scoped>\n",
       "    .dataframe tbody tr th:only-of-type {\n",
       "        vertical-align: middle;\n",
       "    }\n",
       "\n",
       "    .dataframe tbody tr th {\n",
       "        vertical-align: top;\n",
       "    }\n",
       "\n",
       "    .dataframe thead th {\n",
       "        text-align: right;\n",
       "    }\n",
       "</style>\n",
       "<table border=\"1\" class=\"dataframe\">\n",
       "  <thead>\n",
       "    <tr style=\"text-align: right;\">\n",
       "      <th></th>\n",
       "      <th>col_1_0</th>\n",
       "      <th>col_1_1</th>\n",
       "      <th>col_1_2</th>\n",
       "      <th>col_1_3</th>\n",
       "      <th>col_1_4</th>\n",
       "      <th>col_1_5</th>\n",
       "      <th>col_1_6</th>\n",
       "      <th>col_1_7</th>\n",
       "      <th>col_1_8</th>\n",
       "      <th>col_1_9</th>\n",
       "      <th>...</th>\n",
       "      <th>col_50_0</th>\n",
       "      <th>col_50_1</th>\n",
       "      <th>col_50_2</th>\n",
       "      <th>col_50_3</th>\n",
       "      <th>col_50_4</th>\n",
       "      <th>col_50_5</th>\n",
       "      <th>col_50_6</th>\n",
       "      <th>col_50_7</th>\n",
       "      <th>col_50_8</th>\n",
       "      <th>col_50_9</th>\n",
       "    </tr>\n",
       "  </thead>\n",
       "  <tbody>\n",
       "    <tr>\n",
       "      <th>0</th>\n",
       "      <td>True</td>\n",
       "      <td>0</td>\n",
       "      <td>0</td>\n",
       "      <td>0</td>\n",
       "      <td>0</td>\n",
       "      <td>0</td>\n",
       "      <td>0</td>\n",
       "      <td>0</td>\n",
       "      <td>0</td>\n",
       "      <td>0</td>\n",
       "      <td>...</td>\n",
       "      <td>False</td>\n",
       "      <td>False</td>\n",
       "      <td>False</td>\n",
       "      <td>False</td>\n",
       "      <td>True</td>\n",
       "      <td>False</td>\n",
       "      <td>False</td>\n",
       "      <td>False</td>\n",
       "      <td>False</td>\n",
       "      <td>False</td>\n",
       "    </tr>\n",
       "    <tr>\n",
       "      <th>1</th>\n",
       "      <td>True</td>\n",
       "      <td>0</td>\n",
       "      <td>0</td>\n",
       "      <td>0</td>\n",
       "      <td>0</td>\n",
       "      <td>0</td>\n",
       "      <td>0</td>\n",
       "      <td>0</td>\n",
       "      <td>0</td>\n",
       "      <td>0</td>\n",
       "      <td>...</td>\n",
       "      <td>False</td>\n",
       "      <td>False</td>\n",
       "      <td>False</td>\n",
       "      <td>False</td>\n",
       "      <td>True</td>\n",
       "      <td>False</td>\n",
       "      <td>False</td>\n",
       "      <td>False</td>\n",
       "      <td>False</td>\n",
       "      <td>False</td>\n",
       "    </tr>\n",
       "    <tr>\n",
       "      <th>2</th>\n",
       "      <td>True</td>\n",
       "      <td>0</td>\n",
       "      <td>0</td>\n",
       "      <td>0</td>\n",
       "      <td>0</td>\n",
       "      <td>0</td>\n",
       "      <td>0</td>\n",
       "      <td>0</td>\n",
       "      <td>0</td>\n",
       "      <td>0</td>\n",
       "      <td>...</td>\n",
       "      <td>False</td>\n",
       "      <td>False</td>\n",
       "      <td>False</td>\n",
       "      <td>False</td>\n",
       "      <td>True</td>\n",
       "      <td>False</td>\n",
       "      <td>False</td>\n",
       "      <td>False</td>\n",
       "      <td>False</td>\n",
       "      <td>False</td>\n",
       "    </tr>\n",
       "    <tr>\n",
       "      <th>3</th>\n",
       "      <td>True</td>\n",
       "      <td>0</td>\n",
       "      <td>0</td>\n",
       "      <td>0</td>\n",
       "      <td>0</td>\n",
       "      <td>0</td>\n",
       "      <td>0</td>\n",
       "      <td>0</td>\n",
       "      <td>0</td>\n",
       "      <td>0</td>\n",
       "      <td>...</td>\n",
       "      <td>False</td>\n",
       "      <td>False</td>\n",
       "      <td>True</td>\n",
       "      <td>False</td>\n",
       "      <td>False</td>\n",
       "      <td>False</td>\n",
       "      <td>False</td>\n",
       "      <td>False</td>\n",
       "      <td>False</td>\n",
       "      <td>False</td>\n",
       "    </tr>\n",
       "    <tr>\n",
       "      <th>4</th>\n",
       "      <td>True</td>\n",
       "      <td>0</td>\n",
       "      <td>0</td>\n",
       "      <td>0</td>\n",
       "      <td>0</td>\n",
       "      <td>0</td>\n",
       "      <td>0</td>\n",
       "      <td>0</td>\n",
       "      <td>0</td>\n",
       "      <td>0</td>\n",
       "      <td>...</td>\n",
       "      <td>False</td>\n",
       "      <td>False</td>\n",
       "      <td>False</td>\n",
       "      <td>False</td>\n",
       "      <td>True</td>\n",
       "      <td>False</td>\n",
       "      <td>False</td>\n",
       "      <td>False</td>\n",
       "      <td>False</td>\n",
       "      <td>False</td>\n",
       "    </tr>\n",
       "  </tbody>\n",
       "</table>\n",
       "<p>5 rows × 500 columns</p>\n",
       "</div>"
      ],
      "text/plain": [
       "   col_1_0  col_1_1  col_1_2  col_1_3  col_1_4  col_1_5  col_1_6  col_1_7  \\\n",
       "0     True        0        0        0        0        0        0        0   \n",
       "1     True        0        0        0        0        0        0        0   \n",
       "2     True        0        0        0        0        0        0        0   \n",
       "3     True        0        0        0        0        0        0        0   \n",
       "4     True        0        0        0        0        0        0        0   \n",
       "\n",
       "   col_1_8  col_1_9  ...  col_50_0  col_50_1  col_50_2  col_50_3  col_50_4  \\\n",
       "0        0        0  ...     False     False     False     False      True   \n",
       "1        0        0  ...     False     False     False     False      True   \n",
       "2        0        0  ...     False     False     False     False      True   \n",
       "3        0        0  ...     False     False      True     False     False   \n",
       "4        0        0  ...     False     False     False     False      True   \n",
       "\n",
       "   col_50_5  col_50_6  col_50_7  col_50_8  col_50_9  \n",
       "0     False     False     False     False     False  \n",
       "1     False     False     False     False     False  \n",
       "2     False     False     False     False     False  \n",
       "3     False     False     False     False     False  \n",
       "4     False     False     False     False     False  \n",
       "\n",
       "[5 rows x 500 columns]"
      ]
     },
     "execution_count": 14,
     "metadata": {},
     "output_type": "execute_result"
    }
   ],
   "source": [
    "train_X.head()"
   ]
  },
  {
   "cell_type": "code",
   "execution_count": 15,
   "metadata": {},
   "outputs": [
    {
     "name": "stdout",
     "output_type": "stream",
     "text": [
      "(489, 500)\n"
     ]
    }
   ],
   "source": [
    "split_columns = val_seq_df['input_str'].apply(lambda x: pd.Series(list(x)))\n",
    "split_columns.columns = [f'col_{i+1}' for i in range(50)]\n",
    "\n",
    "val_X = pd.DataFrame()\n",
    "\n",
    "# One-hot encode each column, ensuring all 500 columns are created\n",
    "for i in range(50):\n",
    "    # Create 10 columns for digits 0-9 for each original column position\n",
    "    one_hot = pd.get_dummies(split_columns[f'col_{i+1}'], prefix=f'col_{i+1}')\n",
    "    \n",
    "    # Ensure all columns 'col_i_0' to 'col_i_9' are present, filling missing ones with 0\n",
    "    for j in range(10):\n",
    "        column_name = f'col_{i+1}_{j}'\n",
    "        if column_name not in one_hot:\n",
    "            one_hot[column_name] = 0\n",
    "    \n",
    "    # Add the one-hot encoded columns for this position to the final dataframe\n",
    "    val_X = pd.concat([val_X, one_hot], axis=1)\n",
    "\n",
    "# Ensure the columns are in the correct order (col_1_0, col_1_1, ..., col_50_9)\n",
    "val_X = val_X[sorted(val_X.columns, key=lambda x: (int(x.split('_')[1]), int(x.split('_')[2])))]\n",
    "\n",
    "print(val_X.shape)\n"
   ]
  },
  {
   "cell_type": "code",
   "execution_count": 16,
   "metadata": {},
   "outputs": [],
   "source": [
    "# split the data into 5 forms one consisting of 20% of the data 40% of the data 60% of the data 80% of the data and 100% of the data\n",
    "from sklearn.model_selection import train_test_split\n",
    "X_train_20, X_test_20, y_train_20, y_test_20 = train_test_split(train_X, train_seq_Y, test_size=0.8, random_state=42)\n",
    "X_train_40, X_test_40, y_train_40, y_test_40 = train_test_split(train_X, train_seq_Y, test_size=0.6, random_state=42)\n",
    "X_train_60, X_test_60, y_train_60, y_test_60 = train_test_split(train_X, train_seq_Y, test_size=0.4, random_state=42)\n",
    "X_train_80, X_test_80, y_train_80, y_test_80 = train_test_split(train_X, train_seq_Y, test_size=0.2, random_state=42)\n",
    "X_train_100 = train_X\n",
    "y_train_100 = train_seq_Y"
   ]
  },
  {
   "cell_type": "code",
   "execution_count": 17,
   "metadata": {},
   "outputs": [],
   "source": [
    "from sklearn.ensemble import RandomForestClassifier\n",
    "from sklearn.metrics import accuracy_score"
   ]
  },
  {
   "cell_type": "code",
   "execution_count": 18,
   "metadata": {},
   "outputs": [
    {
     "name": "stdout",
     "output_type": "stream",
     "text": [
      "Accuracy of 20% of the data:  0.5521472392638037\n"
     ]
    }
   ],
   "source": [
    "rf_20 = RandomForestClassifier(n_estimators=100, random_state=42)\n",
    "rf_20.fit(X_train_20, y_train_20)\n",
    "y_pred_20 = rf_20.predict(val_X)\n",
    "accuracy_20 = accuracy_score(val_seq_Y, y_pred_20)\n",
    "print(\"Accuracy of 20% of the data: \", accuracy_20)\n"
   ]
  },
  {
   "cell_type": "code",
   "execution_count": 19,
   "metadata": {},
   "outputs": [
    {
     "name": "stdout",
     "output_type": "stream",
     "text": [
      "Accuracy of 40% of the data:  0.5807770961145194\n"
     ]
    }
   ],
   "source": [
    "rf_40 = RandomForestClassifier(n_estimators=100, random_state=42)\n",
    "rf_40.fit(X_train_40, y_train_40)\n",
    "y_pred_40 = rf_40.predict(val_X)\n",
    "accuracy_40 = accuracy_score(val_seq_Y, y_pred_40)\n",
    "print(\"Accuracy of 40% of the data: \", accuracy_40)\n"
   ]
  },
  {
   "cell_type": "code",
   "execution_count": 20,
   "metadata": {},
   "outputs": [
    {
     "name": "stdout",
     "output_type": "stream",
     "text": [
      "Accuracy of 60% of the data:  0.6053169734151329\n"
     ]
    }
   ],
   "source": [
    "rf_60 = RandomForestClassifier(n_estimators=100, random_state=42)\n",
    "rf_60.fit(X_train_60, y_train_60)\n",
    "y_pred_60 = rf_60.predict(val_X)\n",
    "accuracy_60 = accuracy_score(val_seq_Y, y_pred_60)\n",
    "print(\"Accuracy of 60% of the data: \", accuracy_60)\n"
   ]
  },
  {
   "cell_type": "code",
   "execution_count": 21,
   "metadata": {},
   "outputs": [
    {
     "name": "stdout",
     "output_type": "stream",
     "text": [
      "Accuracy of 80% of the data:  0.623721881390593\n"
     ]
    }
   ],
   "source": [
    "rf_80 = RandomForestClassifier(n_estimators=100, random_state=42)\n",
    "rf_80.fit(X_train_80, y_train_80)\n",
    "y_pred_80 = rf_80.predict(val_X)\n",
    "accuracy_80 = accuracy_score(val_seq_Y, y_pred_80)\n",
    "print(\"Accuracy of 80% of the data: \", accuracy_80)\n"
   ]
  },
  {
   "cell_type": "code",
   "execution_count": 22,
   "metadata": {},
   "outputs": [
    {
     "name": "stdout",
     "output_type": "stream",
     "text": [
      "Accuracy of 100% of the data:  0.656441717791411\n"
     ]
    }
   ],
   "source": [
    "rf_100 = RandomForestClassifier(n_estimators=100, random_state=42)\n",
    "rf_100.fit(X_train_100, y_train_100)\n",
    "y_pred_100 = rf_100.predict(val_X)\n",
    "accuracy_100 = accuracy_score(val_seq_Y, y_pred_100)\n",
    "print(\"Accuracy of 100% of the data: \", accuracy_100)\n"
   ]
  },
  {
   "cell_type": "code",
   "execution_count": 30,
   "metadata": {},
   "outputs": [],
   "source": [
    "# train a neural network model  \n",
    "from sklearn.neural_network import MLPClassifier"
   ]
  },
  {
   "cell_type": "code",
   "execution_count": 29,
   "metadata": {},
   "outputs": [
    {
     "name": "stdout",
     "output_type": "stream",
     "text": [
      "Accuracy of 20% of the data:  0.5971370143149284\n"
     ]
    }
   ],
   "source": [
    "mlp_20 = MLPClassifier(hidden_layer_sizes=(100, 100), max_iter=1000, random_state=42)\n",
    "mlp_20.fit(X_train_20, y_train_20)\n",
    "y_pred_20 = mlp_20.predict(val_X)\n",
    "accuracy_20 = accuracy_score(val_seq_Y, y_pred_20)\n",
    "print(\"Accuracy of 20% of the data: \", accuracy_20)\n"
   ]
  },
  {
   "cell_type": "code",
   "execution_count": 31,
   "metadata": {},
   "outputs": [
    {
     "name": "stdout",
     "output_type": "stream",
     "text": [
      "Accuracy of 40% of the data:  0.6114519427402862\n"
     ]
    }
   ],
   "source": [
    "mlp_40 = MLPClassifier(hidden_layer_sizes=(100, 100), max_iter=1000, random_state=42)\n",
    "mlp_40.fit(X_train_40, y_train_40)\n",
    "y_pred_40 = mlp_40.predict(val_X)\n",
    "accuracy_40 = accuracy_score(val_seq_Y, y_pred_40)\n",
    "print(\"Accuracy of 40% of the data: \", accuracy_40)\n"
   ]
  },
  {
   "cell_type": "code",
   "execution_count": 32,
   "metadata": {},
   "outputs": [
    {
     "name": "stdout",
     "output_type": "stream",
     "text": [
      "Accuracy of 60% of the data:  0.6339468302658486\n"
     ]
    }
   ],
   "source": [
    "mlp_60 = MLPClassifier(hidden_layer_sizes=(100, 100), max_iter=1000, random_state=42)\n",
    "mlp_60.fit(X_train_60, y_train_60)\n",
    "y_pred_60 = mlp_60.predict(val_X)\n",
    "accuracy_60 = accuracy_score(val_seq_Y, y_pred_60)\n",
    "print(\"Accuracy of 60% of the data: \", accuracy_60)"
   ]
  },
  {
   "cell_type": "code",
   "execution_count": 33,
   "metadata": {},
   "outputs": [
    {
     "name": "stdout",
     "output_type": "stream",
     "text": [
      "Accuracy of 80% of the data:  0.6441717791411042\n"
     ]
    }
   ],
   "source": [
    "mlp_80 = MLPClassifier(hidden_layer_sizes=(100, 100), max_iter=1000, random_state=42)\n",
    "mlp_80.fit(X_train_80, y_train_80)\n",
    "y_pred_80 = mlp_80.predict(val_X)\n",
    "accuracy_80 = accuracy_score(val_seq_Y, y_pred_80)\n",
    "print(\"Accuracy of 80% of the data: \", accuracy_80)\n"
   ]
  },
  {
   "cell_type": "code",
   "execution_count": 34,
   "metadata": {},
   "outputs": [
    {
     "name": "stdout",
     "output_type": "stream",
     "text": [
      "Accuracy of 100% of the data:  0.6523517382413088\n"
     ]
    }
   ],
   "source": [
    "mlp_100 = MLPClassifier(hidden_layer_sizes=(100, 100), max_iter=1000, random_state=42)\n",
    "mlp_100.fit(X_train_100, y_train_100)\n",
    "y_pred_100 = mlp_100.predict(val_X)\n",
    "accuracy_100 = accuracy_score(val_seq_Y, y_pred_100)\n",
    "print(\"Accuracy of 100% of the data: \", accuracy_100)"
   ]
  },
  {
   "cell_type": "code",
   "execution_count": null,
   "metadata": {},
   "outputs": [],
   "source": []
  }
 ],
 "metadata": {
  "kernelspec": {
   "display_name": "Python 3",
   "language": "python",
   "name": "python3"
  },
  "language_info": {
   "codemirror_mode": {
    "name": "ipython",
    "version": 3
   },
   "file_extension": ".py",
   "mimetype": "text/x-python",
   "name": "python",
   "nbconvert_exporter": "python",
   "pygments_lexer": "ipython3",
   "version": "3.11.5"
  }
 },
 "nbformat": 4,
 "nbformat_minor": 2
}
