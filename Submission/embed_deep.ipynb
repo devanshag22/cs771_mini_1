{
 "cells": [
  {
   "cell_type": "code",
   "execution_count": 1,
   "metadata": {},
   "outputs": [],
   "source": [
    "import numpy as np\n",
    "import pandas as pd\n",
    "from sklearn.model_selection import train_test_split\n",
    "from sklearn.decomposition import PCA\n",
    "from sklearn.preprocessing import StandardScaler\n",
    "from sklearn.metrics import accuracy_score"
   ]
  },
  {
   "cell_type": "markdown",
   "metadata": {},
   "source": [
    "# Data Processing"
   ]
  },
  {
   "cell_type": "code",
   "execution_count": 2,
   "metadata": {},
   "outputs": [],
   "source": [
    "train_feat = np.load(\"datasets/train/train_feature.npz\", allow_pickle=True)\n",
    "train_feat_X = train_feat['features']\n",
    "train_feat_Y = train_feat['label']\n",
    "val_feat = np.load(\"datasets/valid/valid_feature.npz\", allow_pickle=True)\n",
    "val_feat_X = val_feat['features']\n",
    "val_feat_Y = val_feat['label']"
   ]
  },
  {
   "cell_type": "code",
   "execution_count": 3,
   "metadata": {},
   "outputs": [],
   "source": [
    "# flatten the features  \n",
    "train_feat_X = np.array([x.flatten() for x in train_feat_X])\n",
    "val_feat_X = np.array([x.flatten() for x in val_feat_X])"
   ]
  },
  {
   "cell_type": "markdown",
   "metadata": {},
   "source": [
    "## Model Training before PCA"
   ]
  },
  {
   "cell_type": "code",
   "execution_count": 6,
   "metadata": {},
   "outputs": [
    {
     "name": "stdout",
     "output_type": "stream",
     "text": [
      "Accuracy: \n"
     ]
    }
   ],
   "source": [
    "#apply xgboost\n",
    "from xgboost import XGBClassifier\n",
    "model = XGBClassifier()\n",
    "model.fit(train_feat_X, train_feat_Y)\n",
    "y_pred = model.predict(val_feat_X)\n",
    "accuracy = accuracy_score(val_feat_Y, y_pred)"
   ]
  },
  {
   "cell_type": "code",
   "execution_count": 8,
   "metadata": {},
   "outputs": [
    {
     "name": "stdout",
     "output_type": "stream",
     "text": [
      "Accuracy 98.3640081799591\n"
     ]
    }
   ],
   "source": [
    "print(\"Accuracy\",(accuracy * 100.0))"
   ]
  },
  {
   "cell_type": "code",
   "execution_count": 17,
   "metadata": {},
   "outputs": [
    {
     "name": "stdout",
     "output_type": "stream",
     "text": [
      "Accuracy 98.15950920245399\n"
     ]
    }
   ],
   "source": [
    "# apply ada boost \n",
    "from sklearn.ensemble import AdaBoostClassifier\n",
    "model = AdaBoostClassifier(n_estimators=100, random_state=0)\n",
    "model.fit(train_feat_X, train_feat_Y)\n",
    "y_pred = model.predict(val_feat_X)\n",
    "accuracy = accuracy_score(val_feat_Y, y_pred)\n",
    "print(\"Accuracy\",(accuracy * 100.0))"
   ]
  },
  {
   "cell_type": "markdown",
   "metadata": {},
   "source": [
    "## After PCA"
   ]
  },
  {
   "cell_type": "code",
   "execution_count": 27,
   "metadata": {},
   "outputs": [],
   "source": [
    "scaler = StandardScaler()\n",
    "X_scaled = scaler.fit_transform(train_feat_X)\n",
    "\n",
    "pca = PCA(n_components=128)  \n",
    "X_pca = pca.fit_transform(X_scaled)"
   ]
  },
  {
   "cell_type": "code",
   "execution_count": 28,
   "metadata": {},
   "outputs": [
    {
     "name": "stdout",
     "output_type": "stream",
     "text": [
      "(7080, 128)\n"
     ]
    }
   ],
   "source": [
    "print(X_pca.shape)"
   ]
  },
  {
   "cell_type": "code",
   "execution_count": 29,
   "metadata": {},
   "outputs": [
    {
     "name": "stdout",
     "output_type": "stream",
     "text": [
      "Accuracy: 0.9795501022494888\n"
     ]
    }
   ],
   "source": [
    "# Apply XG boost classifier\n",
    "from xgboost import XGBClassifier\n",
    "model = XGBClassifier()\n",
    "model.fit(X_pca, train_feat_Y)\n",
    "\n",
    "# Predict the validation set\n",
    "val_scaled = scaler.transform(val_feat_X)\n",
    "val_pca = pca.transform(val_scaled)\n",
    "val_pred = model.predict(val_pca)\n",
    "\n",
    "# Calculate the accuracy\n",
    "accuracy = accuracy_score(val_feat_Y, val_pred)\n",
    "print(f\"Accuracy: {accuracy}\")"
   ]
  },
  {
   "cell_type": "code",
   "execution_count": 24,
   "metadata": {},
   "outputs": [
    {
     "name": "stdout",
     "output_type": "stream",
     "text": [
      "Accuracy: 0.9631901840490797\n"
     ]
    }
   ],
   "source": [
    "# Apply adaboost classifier\n",
    "from sklearn.ensemble import AdaBoostClassifier\n",
    "model = AdaBoostClassifier()\n",
    "model.fit(X_pca, train_feat_Y)\n",
    "\n",
    "# Predict the validation set\n",
    "val_pred = model.predict(val_pca)\n",
    "\n",
    "# Calculate the accuracy\n",
    "accuracy = accuracy_score(val_feat_Y, val_pred)\n",
    "print(f\"Accuracy: {accuracy}\")"
   ]
  },
  {
   "cell_type": "code",
   "execution_count": 25,
   "metadata": {},
   "outputs": [
    {
     "name": "stdout",
     "output_type": "stream",
     "text": [
      "Accuracy: 0.9059304703476483\n"
     ]
    }
   ],
   "source": [
    "# import randomforest classifier and train using the pca reduced dat\n",
    "from sklearn.ensemble import RandomForestClassifier\n",
    "model = RandomForestClassifier(n_estimators=100, max_depth=2, random_state=0)\n",
    "model.fit(X_pca, train_feat_Y)\n",
    "\n",
    "# Predict the validation set\n",
    "val_pred = model.predict(val_pca)\n",
    "\n",
    "# Calculate the accuracy\n",
    "accuracy = accuracy_score(val_feat_Y, val_pred)\n",
    "print(f\"Accuracy: {accuracy}\")\n"
   ]
  },
  {
   "cell_type": "code",
   "execution_count": 26,
   "metadata": {},
   "outputs": [],
   "source": [
    "X_train_20, X_test_20, y_train_20, y_test_20 = train_test_split(train_feat_X, train_feat_Y, test_size=0.8, random_state=42)\n",
    "X_train_40, X_test_40, y_train_40, y_test_40 = train_test_split(train_feat_X, train_feat_Y, test_size=0.6, random_state=42)\n",
    "X_train_60, X_test_60, y_train_60, y_test_60 = train_test_split(train_feat_X, train_feat_Y, test_size=0.4, random_state=42)\n",
    "X_train_80, X_test_80, y_train_80, y_test_80 = train_test_split(train_feat_X, train_feat_Y, test_size=0.2, random_state=42)"
   ]
  },
  {
   "cell_type": "markdown",
   "metadata": {},
   "source": [
    "# Checking Performance Analysis on amount of data"
   ]
  },
  {
   "cell_type": "markdown",
   "metadata": {},
   "source": [
    "### For XGBoost without PCA"
   ]
  },
  {
   "cell_type": "code",
   "execution_count": 30,
   "metadata": {},
   "outputs": [
    {
     "name": "stdout",
     "output_type": "stream",
     "text": [
      "Accuracy: 0.955861581920904\n"
     ]
    }
   ],
   "source": [
    "# Apply XG boost classifier on 20% of the data\n",
    "model20 = XGBClassifier()\n",
    "model20.fit(X_train_20, y_train_20)\n",
    "y_pred20 = model20.predict(X_test_20)\n",
    "accuracy20 = accuracy_score(y_test_20, y_pred20)\n",
    "print(f\"Accuracy: {accuracy20}\")"
   ]
  },
  {
   "cell_type": "code",
   "execution_count": 31,
   "metadata": {},
   "outputs": [
    {
     "name": "stdout",
     "output_type": "stream",
     "text": [
      "Accuracy: 0.9722222222222222\n"
     ]
    }
   ],
   "source": [
    "model40 = XGBClassifier()\n",
    "model40.fit(X_train_40, y_train_40)\n",
    "y_pred40 = model40.predict(X_test_40)\n",
    "accuracy40 = accuracy_score(y_test_40, y_pred40)\n",
    "print(f\"Accuracy: {accuracy40}\")\n"
   ]
  },
  {
   "cell_type": "code",
   "execution_count": 32,
   "metadata": {},
   "outputs": [
    {
     "name": "stdout",
     "output_type": "stream",
     "text": [
      "Accuracy: 0.9781073446327684\n"
     ]
    }
   ],
   "source": [
    "model60 = XGBClassifier()\n",
    "model60.fit(X_train_60, y_train_60)\n",
    "y_pred60 = model60.predict(X_test_60)\n",
    "accuracy60 = accuracy_score(y_test_60, y_pred60)\n",
    "print(f\"Accuracy: {accuracy60}\")"
   ]
  },
  {
   "cell_type": "code",
   "execution_count": 33,
   "metadata": {},
   "outputs": [
    {
     "name": "stdout",
     "output_type": "stream",
     "text": [
      "Accuracy: 0.9837570621468926\n"
     ]
    }
   ],
   "source": [
    "model80 = XGBClassifier()\n",
    "model80.fit(X_train_80, y_train_80)\n",
    "y_pred80 = model80.predict(X_test_80)\n",
    "accuracy80 = accuracy_score(y_test_80, y_pred80)\n",
    "print(f\"Accuracy: {accuracy80}\")"
   ]
  },
  {
   "cell_type": "markdown",
   "metadata": {},
   "source": [
    "### For Adaboost without PCA"
   ]
  },
  {
   "cell_type": "code",
   "execution_count": 34,
   "metadata": {},
   "outputs": [
    {
     "name": "stdout",
     "output_type": "stream",
     "text": [
      "Accuracy: 0.9470338983050848\n"
     ]
    }
   ],
   "source": [
    "ada20 = AdaBoostClassifier()\n",
    "ada20.fit(X_train_20, y_train_20)\n",
    "y_pred20 = ada20.predict(X_test_20)\n",
    "accuracy20 = accuracy_score(y_test_20, y_pred20)\n",
    "print(f\"Accuracy: {accuracy20}\")"
   ]
  },
  {
   "cell_type": "code",
   "execution_count": 35,
   "metadata": {},
   "outputs": [
    {
     "name": "stdout",
     "output_type": "stream",
     "text": [
      "Accuracy: 0.9677495291902072\n"
     ]
    }
   ],
   "source": [
    "ada40 = AdaBoostClassifier()\n",
    "ada40.fit(X_train_40, y_train_40)\n",
    "y_pred40 = ada40.predict(X_test_40)\n",
    "accuracy40 = accuracy_score(y_test_40, y_pred40)\n",
    "print(f\"Accuracy: {accuracy40}\")"
   ]
  },
  {
   "cell_type": "code",
   "execution_count": 36,
   "metadata": {},
   "outputs": [
    {
     "name": "stdout",
     "output_type": "stream",
     "text": [
      "Accuracy: 0.9692796610169492\n"
     ]
    }
   ],
   "source": [
    "ada60 = AdaBoostClassifier()\n",
    "ada60.fit(X_train_60, y_train_60)\n",
    "y_pred60 = ada60.predict(X_test_60)\n",
    "accuracy60 = accuracy_score(y_test_60, y_pred60)\n",
    "print(f\"Accuracy: {accuracy60}\")"
   ]
  },
  {
   "cell_type": "code",
   "execution_count": 37,
   "metadata": {},
   "outputs": [
    {
     "name": "stdout",
     "output_type": "stream",
     "text": [
      "Accuracy: 0.9774011299435028\n"
     ]
    }
   ],
   "source": [
    "ada80 = AdaBoostClassifier()\n",
    "ada80.fit(X_train_80, y_train_80)\n",
    "y_pred80 = ada80.predict(X_test_80)\n",
    "accuracy80 = accuracy_score(y_test_80, y_pred80)\n",
    "print(f\"Accuracy: {accuracy80}\")"
   ]
  },
  {
   "cell_type": "markdown",
   "metadata": {},
   "source": [
    "### AdaBoost with PCA"
   ]
  },
  {
   "cell_type": "code",
   "execution_count": 38,
   "metadata": {},
   "outputs": [],
   "source": [
    "# split into sets of data but with pca reduced data\n",
    "X_train_20, X_test_20, y_train_20, y_test_20 = train_test_split(X_pca, train_feat_Y, test_size=0.8, random_state=42)\n",
    "X_train_40, X_test_40, y_train_40, y_test_40 = train_test_split(X_pca, train_feat_Y, test_size=0.6, random_state=42)\n",
    "X_train_60, X_test_60, y_train_60, y_test_60 = train_test_split(X_pca, train_feat_Y, test_size=0.4, random_state=42)\n",
    "X_train_80, X_test_80, y_train_80, y_test_80 = train_test_split(X_pca, train_feat_Y, test_size=0.2, random_state=42)"
   ]
  },
  {
   "cell_type": "code",
   "execution_count": 39,
   "metadata": {},
   "outputs": [
    {
     "name": "stdout",
     "output_type": "stream",
     "text": [
      "Accuracy: 0.9385593220338984\n"
     ]
    }
   ],
   "source": [
    "ada20 = AdaBoostClassifier()\n",
    "ada20.fit(X_train_20, y_train_20)\n",
    "y_pred20 = ada20.predict(X_test_20)\n",
    "accuracy20 = accuracy_score(y_test_20, y_pred20)\n",
    "print(f\"Accuracy: {accuracy20}\")"
   ]
  },
  {
   "cell_type": "code",
   "execution_count": 40,
   "metadata": {},
   "outputs": [
    {
     "name": "stdout",
     "output_type": "stream",
     "text": [
      "Accuracy: 0.949623352165725\n"
     ]
    }
   ],
   "source": [
    "ada40 = AdaBoostClassifier()\n",
    "ada40.fit(X_train_40, y_train_40)\n",
    "y_pred40 = ada40.predict(X_test_40)\n",
    "accuracy40 = accuracy_score(y_test_40, y_pred40)\n",
    "print(f\"Accuracy: {accuracy40}\")"
   ]
  },
  {
   "cell_type": "code",
   "execution_count": 41,
   "metadata": {},
   "outputs": [
    {
     "name": "stdout",
     "output_type": "stream",
     "text": [
      "Accuracy: 0.9576271186440678\n"
     ]
    }
   ],
   "source": [
    "ada60 = AdaBoostClassifier()\n",
    "ada60.fit(X_train_60, y_train_60)\n",
    "y_pred60 = ada60.predict(X_test_60)\n",
    "accuracy60 = accuracy_score(y_test_60, y_pred60)\n",
    "print(f\"Accuracy: {accuracy60}\")"
   ]
  },
  {
   "cell_type": "code",
   "execution_count": 42,
   "metadata": {},
   "outputs": [
    {
     "name": "stdout",
     "output_type": "stream",
     "text": [
      "Accuracy: 0.9625706214689266\n"
     ]
    }
   ],
   "source": [
    "ada80 = AdaBoostClassifier()\n",
    "ada80.fit(X_train_80, y_train_80)\n",
    "y_pred80 = ada80.predict(X_test_80)\n",
    "accuracy80 = accuracy_score(y_test_80, y_pred80)\n",
    "print(f\"Accuracy: {accuracy80}\")"
   ]
  },
  {
   "cell_type": "code",
   "execution_count": null,
   "metadata": {},
   "outputs": [],
   "source": []
  }
 ],
 "metadata": {
  "kernelspec": {
   "display_name": "Python 3",
   "language": "python",
   "name": "python3"
  },
  "language_info": {
   "codemirror_mode": {
    "name": "ipython",
    "version": 3
   },
   "file_extension": ".py",
   "mimetype": "text/x-python",
   "name": "python",
   "nbconvert_exporter": "python",
   "pygments_lexer": "ipython3",
   "version": "3.11.5"
  }
 },
 "nbformat": 4,
 "nbformat_minor": 2
}
