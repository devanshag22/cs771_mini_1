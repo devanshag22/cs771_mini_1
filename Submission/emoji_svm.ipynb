{
 "cells": [
  {
   "cell_type": "code",
   "execution_count": 5,
   "metadata": {},
   "outputs": [],
   "source": [
    "import pandas as pd\n",
    "import numpy as np"
   ]
  },
  {
   "cell_type": "code",
   "execution_count": 6,
   "metadata": {},
   "outputs": [],
   "source": [
    "# read emoticon dataset\n",
    "train_emoticon_df = pd.read_csv(\"datasets/train/train_emoticon.csv\")\n",
    "train_emoticon_X = train_emoticon_df['input_emoticon'].tolist()\n",
    "train_emoticon_Y = train_emoticon_df['label'].tolist()\n"
   ]
  },
  {
   "cell_type": "code",
   "execution_count": 7,
   "metadata": {},
   "outputs": [],
   "source": [
    "val_emoticon = pd.read_csv(\"datasets/valid/valid_emoticon.csv\")\n",
    "val_emoticon_X = val_emoticon['input_emoticon'].tolist()\n",
    "val_emoticon_Y = val_emoticon['label'].tolist()\n"
   ]
  },
  {
   "cell_type": "code",
   "execution_count": 8,
   "metadata": {},
   "outputs": [
    {
     "name": "stdout",
     "output_type": "stream",
     "text": [
      "Shape of one-hot encoded data: (7080, 2782)\n"
     ]
    },
    {
     "name": "stderr",
     "output_type": "stream",
     "text": [
      "c:\\Users\\HP\\AppData\\Local\\Programs\\Python\\Python311\\Lib\\site-packages\\sklearn\\preprocessing\\_encoders.py:868: FutureWarning: `sparse` was renamed to `sparse_output` in version 1.2 and will be removed in 1.4. `sparse_output` is ignored unless you leave `sparse` to its default value.\n",
      "  warnings.warn(\n"
     ]
    }
   ],
   "source": [
    "from sklearn.preprocessing import OneHotEncoder\n",
    "\n",
    "# Create a list of all emojis across the dataset\n",
    "emojis = list(set([emoji for sample in train_emoticon_X for emoji in sample]))\n",
    "\n",
    "# Initialize OneHotEncoder with 'handle_unknown' set to 'ignore' to avoid issues with unseen emojis\n",
    "encoder = OneHotEncoder(categories=[emojis]*13, sparse=False, handle_unknown='ignore')\n",
    "\n",
    "# Convert the dataset (each sample is 13 emojis) into a list of lists (2D array)\n",
    "emoji_sequences = [list(sample) for sample in train_emoticon_X]\n",
    "emoji_sequences_val = [list(sample) for sample in val_emoticon_X]\n",
    "\n",
    "# Fit the encoder and transform the data\n",
    "encoded_X = encoder.fit_transform(emoji_sequences)\n",
    "encoded_X_val = encoder.transform(emoji_sequences_val)\n",
    "print(f\"Shape of one-hot encoded data: {encoded_X.shape}\")\n"
   ]
  },
  {
   "cell_type": "code",
   "execution_count": 9,
   "metadata": {},
   "outputs": [],
   "source": [
    "from sklearn.model_selection import train_test_split\n",
    "from sklearn.metrics import accuracy_score\n",
    "X_train_20, X_test_20, y_train_20, y_test_20 = train_test_split(encoded_X, train_emoticon_Y, test_size=0.8, random_state=42)\n",
    "X_train_40, X_test_40, y_train_40, y_test_40 = train_test_split(encoded_X, train_emoticon_Y, test_size=0.6, random_state=42)\n",
    "X_train_60, X_test_60, y_train_60, y_test_60 = train_test_split(encoded_X, train_emoticon_Y, test_size=0.4, random_state=42)\n",
    "X_train_80, X_test_80, y_train_80, y_test_80 = train_test_split(encoded_X, train_emoticon_Y, test_size=0.2, random_state=42)\n",
    "X_train_100 = encoded_X\n",
    "y_train_100 = train_emoticon_Y"
   ]
  },
  {
   "cell_type": "code",
   "execution_count": 10,
   "metadata": {},
   "outputs": [],
   "source": [
    "# train a svm model for binary classification\n",
    "from sklearn.svm import SVC\n",
    "from skopt import BayesSearchCV"
   ]
  },
  {
   "cell_type": "code",
   "execution_count": 11,
   "metadata": {},
   "outputs": [],
   "source": [
    "svm = SVC(kernel='linear', random_state=42)\n",
    "\n",
    "search_space = {\n",
    "    # 'kernel': ['linear', 'poly', 'rbf', 'sigmoid'],  # Different kernels to try\n",
    "    'C': (1e-6, 1e+3, 'log-uniform'),                # Regularization parameter\n",
    "    'gamma': (1e-6, 1e+1, 'log-uniform'),            # Kernel coefficient for 'rbf', 'poly' and 'sigmoid'\n",
    "    'degree': (1, 5),                                # Degree of the polynomial kernel (if 'poly' is chosen)\n",
    "    'coef0': (0.0, 10.0)                             # Independent term in 'poly' and 'sigmoid' kernels\n",
    "}\n"
   ]
  },
  {
   "cell_type": "code",
   "execution_count": 23,
   "metadata": {},
   "outputs": [
    {
     "name": "stdout",
     "output_type": "stream",
     "text": [
      "Best hyperparameters: OrderedDict([('C', 8.56969192382994), ('coef0', 10.0), ('degree', 5), ('gamma', 10.0)])\n",
      "Best cross-validation score: 0.8600282485875705\n",
      "Test set accuracy: 0.8957055214723927\n"
     ]
    }
   ],
   "source": [
    "# Set up the Bayesian optimization with BayesSearchCV\n",
    "bayes_cv_tuner = BayesSearchCV(\n",
    "    estimator=svm,\n",
    "    search_spaces=search_space,\n",
    "    n_iter=32,   # Number of parameter settings that are sampled\n",
    "    cv=5,        # 5-fold cross-validation\n",
    "    random_state=42,\n",
    "    n_jobs=-1    # Use all available cores\n",
    ")\n",
    "\n",
    "bayes_cv_tuner.fit(X_train_100, y_train_100)\n",
    "\n",
    "print(\"Best hyperparameters:\", bayes_cv_tuner.best_params_)\n",
    "print(\"Best cross-validation score:\", bayes_cv_tuner.best_score_)\n",
    "\n",
    "test_accuracy = bayes_cv_tuner.score(encoded_X_val, val_emoticon_Y)\n",
    "print(\"Test set accuracy:\", test_accuracy)"
   ]
  },
  {
   "cell_type": "code",
   "execution_count": 12,
   "metadata": {},
   "outputs": [],
   "source": [
    "# train 5 SVM's on split dataset \n",
    "# Best hyperparameters: OrderedDict([('C', 8.56969192382994), ('coef0', 10.0), ('degree', 5), ('gamma', 10.0)])\n",
    "svm20 = SVC(kernel='linear', C=8.56969192382994, coef0=10.0, degree=5,gamma=10.0,random_state=42)\n",
    "svm40 = SVC(kernel='linear', C=8.56969192382994, coef0=10.0, degree=5,gamma=10.0,random_state=42)\n",
    "svm60 = SVC(kernel='linear', C=8.56969192382994, coef0=10.0, degree=5,gamma=10.0,random_state=42)\n",
    "svm80 = SVC(kernel='linear', C=8.56969192382994, coef0=10.0, degree=5,gamma=10.0,random_state=42)\n",
    "svm100 = SVC(kernel='linear', C=8.56969192382994, coef0=10.0, degree=5,gamma=10.0,random_state=42)"
   ]
  },
  {
   "cell_type": "code",
   "execution_count": 13,
   "metadata": {},
   "outputs": [
    {
     "data": {
      "text/html": [
       "<style>#sk-container-id-1 {color: black;background-color: white;}#sk-container-id-1 pre{padding: 0;}#sk-container-id-1 div.sk-toggleable {background-color: white;}#sk-container-id-1 label.sk-toggleable__label {cursor: pointer;display: block;width: 100%;margin-bottom: 0;padding: 0.3em;box-sizing: border-box;text-align: center;}#sk-container-id-1 label.sk-toggleable__label-arrow:before {content: \"▸\";float: left;margin-right: 0.25em;color: #696969;}#sk-container-id-1 label.sk-toggleable__label-arrow:hover:before {color: black;}#sk-container-id-1 div.sk-estimator:hover label.sk-toggleable__label-arrow:before {color: black;}#sk-container-id-1 div.sk-toggleable__content {max-height: 0;max-width: 0;overflow: hidden;text-align: left;background-color: #f0f8ff;}#sk-container-id-1 div.sk-toggleable__content pre {margin: 0.2em;color: black;border-radius: 0.25em;background-color: #f0f8ff;}#sk-container-id-1 input.sk-toggleable__control:checked~div.sk-toggleable__content {max-height: 200px;max-width: 100%;overflow: auto;}#sk-container-id-1 input.sk-toggleable__control:checked~label.sk-toggleable__label-arrow:before {content: \"▾\";}#sk-container-id-1 div.sk-estimator input.sk-toggleable__control:checked~label.sk-toggleable__label {background-color: #d4ebff;}#sk-container-id-1 div.sk-label input.sk-toggleable__control:checked~label.sk-toggleable__label {background-color: #d4ebff;}#sk-container-id-1 input.sk-hidden--visually {border: 0;clip: rect(1px 1px 1px 1px);clip: rect(1px, 1px, 1px, 1px);height: 1px;margin: -1px;overflow: hidden;padding: 0;position: absolute;width: 1px;}#sk-container-id-1 div.sk-estimator {font-family: monospace;background-color: #f0f8ff;border: 1px dotted black;border-radius: 0.25em;box-sizing: border-box;margin-bottom: 0.5em;}#sk-container-id-1 div.sk-estimator:hover {background-color: #d4ebff;}#sk-container-id-1 div.sk-parallel-item::after {content: \"\";width: 100%;border-bottom: 1px solid gray;flex-grow: 1;}#sk-container-id-1 div.sk-label:hover label.sk-toggleable__label {background-color: #d4ebff;}#sk-container-id-1 div.sk-serial::before {content: \"\";position: absolute;border-left: 1px solid gray;box-sizing: border-box;top: 0;bottom: 0;left: 50%;z-index: 0;}#sk-container-id-1 div.sk-serial {display: flex;flex-direction: column;align-items: center;background-color: white;padding-right: 0.2em;padding-left: 0.2em;position: relative;}#sk-container-id-1 div.sk-item {position: relative;z-index: 1;}#sk-container-id-1 div.sk-parallel {display: flex;align-items: stretch;justify-content: center;background-color: white;position: relative;}#sk-container-id-1 div.sk-item::before, #sk-container-id-1 div.sk-parallel-item::before {content: \"\";position: absolute;border-left: 1px solid gray;box-sizing: border-box;top: 0;bottom: 0;left: 50%;z-index: -1;}#sk-container-id-1 div.sk-parallel-item {display: flex;flex-direction: column;z-index: 1;position: relative;background-color: white;}#sk-container-id-1 div.sk-parallel-item:first-child::after {align-self: flex-end;width: 50%;}#sk-container-id-1 div.sk-parallel-item:last-child::after {align-self: flex-start;width: 50%;}#sk-container-id-1 div.sk-parallel-item:only-child::after {width: 0;}#sk-container-id-1 div.sk-dashed-wrapped {border: 1px dashed gray;margin: 0 0.4em 0.5em 0.4em;box-sizing: border-box;padding-bottom: 0.4em;background-color: white;}#sk-container-id-1 div.sk-label label {font-family: monospace;font-weight: bold;display: inline-block;line-height: 1.2em;}#sk-container-id-1 div.sk-label-container {text-align: center;}#sk-container-id-1 div.sk-container {/* jupyter's `normalize.less` sets `[hidden] { display: none; }` but bootstrap.min.css set `[hidden] { display: none !important; }` so we also need the `!important` here to be able to override the default hidden behavior on the sphinx rendered scikit-learn.org. See: https://github.com/scikit-learn/scikit-learn/issues/21755 */display: inline-block !important;position: relative;}#sk-container-id-1 div.sk-text-repr-fallback {display: none;}</style><div id=\"sk-container-id-1\" class=\"sk-top-container\"><div class=\"sk-text-repr-fallback\"><pre>SVC(C=8.56969192382994, coef0=10.0, degree=5, gamma=10.0, kernel=&#x27;linear&#x27;,\n",
       "    random_state=42)</pre><b>In a Jupyter environment, please rerun this cell to show the HTML representation or trust the notebook. <br />On GitHub, the HTML representation is unable to render, please try loading this page with nbviewer.org.</b></div><div class=\"sk-container\" hidden><div class=\"sk-item\"><div class=\"sk-estimator sk-toggleable\"><input class=\"sk-toggleable__control sk-hidden--visually\" id=\"sk-estimator-id-1\" type=\"checkbox\" checked><label for=\"sk-estimator-id-1\" class=\"sk-toggleable__label sk-toggleable__label-arrow\">SVC</label><div class=\"sk-toggleable__content\"><pre>SVC(C=8.56969192382994, coef0=10.0, degree=5, gamma=10.0, kernel=&#x27;linear&#x27;,\n",
       "    random_state=42)</pre></div></div></div></div></div>"
      ],
      "text/plain": [
       "SVC(C=8.56969192382994, coef0=10.0, degree=5, gamma=10.0, kernel='linear',\n",
       "    random_state=42)"
      ]
     },
     "execution_count": 13,
     "metadata": {},
     "output_type": "execute_result"
    }
   ],
   "source": [
    "# fit the models\n",
    "svm20.fit(X_train_20, y_train_20)\n",
    "svm40.fit(X_train_40, y_train_40)\n",
    "svm60.fit(X_train_60, y_train_60)\n",
    "svm80.fit(X_train_80, y_train_80)\n",
    "svm100.fit(X_train_100, y_train_100)"
   ]
  },
  {
   "cell_type": "code",
   "execution_count": 14,
   "metadata": {},
   "outputs": [],
   "source": [
    "y20 = svm20.predict(encoded_X_val)\n",
    "y40 = svm20.predict(encoded_X_val)\n",
    "y60 = svm20.predict(encoded_X_val)\n",
    "y80 = svm20.predict(encoded_X_val)\n",
    "y100 = svm100.predict(encoded_X_val)"
   ]
  },
  {
   "cell_type": "code",
   "execution_count": 16,
   "metadata": {},
   "outputs": [
    {
     "name": "stdout",
     "output_type": "stream",
     "text": [
      "Accuracy of SVM model trained on 20% of data: 0.7361963190184049\n",
      "Accuracy of SVM model trained on 40% of data: 0.7361963190184049\n",
      "Accuracy of SVM model trained on 60% of data: 0.7361963190184049\n",
      "Accuracy of SVM model trained on 80% of data: 0.7361963190184049\n",
      "Accuracy of SVM model trained on 100% of data: 0.8957055214723927\n"
     ]
    }
   ],
   "source": [
    "# Calculate and print accuracy for each model\n",
    "accuracy_20 = accuracy_score(val_emoticon_Y, y20)\n",
    "accuracy_40 = accuracy_score(val_emoticon_Y, y40)\n",
    "accuracy_60 = accuracy_score(val_emoticon_Y, y60)\n",
    "accuracy_80 = accuracy_score(val_emoticon_Y, y80)\n",
    "accuracy_100 = accuracy_score(val_emoticon_Y, y100)\n",
    "\n",
    "print(f\"Accuracy of SVM model trained on 20% of data: {accuracy_20}\")\n",
    "print(f\"Accuracy of SVM model trained on 40% of data: {accuracy_40}\")\n",
    "print(f\"Accuracy of SVM model trained on 60% of data: {accuracy_60}\")\n",
    "print(f\"Accuracy of SVM model trained on 80% of data: {accuracy_80}\")\n",
    "print(f\"Accuracy of SVM model trained on 100% of data: {accuracy_100}\")"
   ]
  },
  {
   "cell_type": "code",
   "execution_count": null,
   "metadata": {},
   "outputs": [],
   "source": []
  }
 ],
 "metadata": {
  "kernelspec": {
   "display_name": "Python 3",
   "language": "python",
   "name": "python3"
  },
  "language_info": {
   "codemirror_mode": {
    "name": "ipython",
    "version": 3
   },
   "file_extension": ".py",
   "mimetype": "text/x-python",
   "name": "python",
   "nbconvert_exporter": "python",
   "pygments_lexer": "ipython3",
   "version": "3.11.5"
  }
 },
 "nbformat": 4,
 "nbformat_minor": 2
}
