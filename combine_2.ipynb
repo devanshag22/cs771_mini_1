{
 "cells": [
  {
   "cell_type": "code",
   "execution_count": 13,
   "metadata": {},
   "outputs": [],
   "source": [
    "import numpy as np\n",
    "import pandas as pd"
   ]
  },
  {
   "cell_type": "code",
   "execution_count": 30,
   "metadata": {},
   "outputs": [],
   "source": [
    "train_seq_df = pd.read_csv(\"datasets/train/train_text_seq.csv\")\n",
    "train_seq_X = train_seq_df['input_str']\n",
    "train_seq_Y = train_seq_df['label']\n",
    "valid_seq_df = pd.read_csv(\"datasets/valid/valid_text_seq.csv\")\n",
    "valid_seq_X = valid_seq_df['input_str']\n",
    "valid_seq_Y = valid_seq_df['label']"
   ]
  },
  {
   "cell_type": "code",
   "execution_count": 31,
   "metadata": {},
   "outputs": [],
   "source": [
    "# read emoticon dataset\n",
    "train_emoticon_df = pd.read_csv(\"datasets/train/train_emoticon.csv\")\n",
    "train_emoticon_X = train_emoticon_df['input_emoticon']\n",
    "train_emoticon_Y = train_emoticon_df['label']\n",
    "valid_emoticon_df = pd.read_csv(\"datasets/valid/valid_emoticon.csv\")\n",
    "valid_emoticon_X = valid_emoticon_df['input_emoticon']\n",
    "valid_emoticon_Y = valid_emoticon_df['label']"
   ]
  },
  {
   "cell_type": "code",
   "execution_count": 32,
   "metadata": {},
   "outputs": [],
   "source": [
    "train_feat = np.load(\"datasets/train/train_feature.npz\", allow_pickle=True)\n",
    "train_feat_X = train_feat['features']\n",
    "train_feat_Y = train_feat['label']\n",
    "valid_feat = np.load(\"datasets/valid/valid_feature.npz\", allow_pickle=True)\n",
    "valid_feat_X = valid_feat['features']\n",
    "valid_feat_Y = valid_feat['label']"
   ]
  },
  {
   "cell_type": "code",
   "execution_count": 33,
   "metadata": {},
   "outputs": [],
   "source": [
    "# flatten the features  \n",
    "train_feat_X = np.array([x.flatten() for x in train_feat_X])\n",
    "valid_feat_X = np.array([x.flatten() for x in valid_feat_X])"
   ]
  },
  {
   "cell_type": "code",
   "execution_count": 34,
   "metadata": {},
   "outputs": [],
   "source": [
    "# apply pca to reduce the dimensionality of the features\n",
    "from sklearn.decomposition import PCA\n",
    "pca = PCA(n_components=96*13)\n",
    "train_feat_X = pca.fit_transform(train_feat_X)\n",
    "valid_feat_X = pca.transform(valid_feat_X)"
   ]
  },
  {
   "cell_type": "code",
   "execution_count": 35,
   "metadata": {},
   "outputs": [],
   "source": [
    "train_seq_X = train_seq_df['input_str'].apply(lambda x: pd.Series(list(x)))\n",
    "train_seq_X.columns = [f'col_{i+1}' for i in range(50)]\n",
    "train_seq_X = train_seq_X.astype(int)\n",
    "valid_seq_X = valid_seq_df['input_str'].apply(lambda x: pd.Series(list(x)))\n",
    "valid_seq_X.columns = [f'col_{i+1}' for i in range(50)]\n",
    "valid_seq_X = valid_seq_X.astype(int)"
   ]
  },
  {
   "cell_type": "code",
   "execution_count": 36,
   "metadata": {},
   "outputs": [
    {
     "name": "stderr",
     "output_type": "stream",
     "text": [
      "c:\\Users\\HP\\AppData\\Local\\Programs\\Python\\Python311\\Lib\\site-packages\\sklearn\\preprocessing\\_encoders.py:868: FutureWarning: `sparse` was renamed to `sparse_output` in version 1.2 and will be removed in 1.4. `sparse_output` is ignored unless you leave `sparse` to its default value.\n",
      "  warnings.warn(\n"
     ]
    }
   ],
   "source": [
    "from sklearn.preprocessing import OneHotEncoder\n",
    "\n",
    "# Create a list of all emojis across the dataset\n",
    "emojis = list(set([emoji for sample in train_emoticon_X for emoji in sample]))\n",
    "encoder = OneHotEncoder(categories=[emojis]*13, sparse=False, handle_unknown='ignore')\n",
    "\n",
    "# Convert the dataset (each sample is 13 emojis) into a list of lists (2D array)\n",
    "emoji_sequences = [list(sample) for sample in train_emoticon_X]\n",
    "emoji_sequences_val = [list(sample) for sample in valid_emoticon_X]\n",
    "\n",
    "train_emoticon_X = encoder.fit_transform(emoji_sequences)\n",
    "valid_emoticon_X = encoder.transform(emoji_sequences_val)\n"
   ]
  },
  {
   "cell_type": "code",
   "execution_count": 37,
   "metadata": {},
   "outputs": [],
   "source": [
    "# apply pca on the emoticon features\n",
    "pca_emoji = PCA(n_components=107)\n",
    "train_emoticon_X = pca_emoji.fit_transform(train_emoticon_X)\n",
    "valid_emoticon_X = pca_emoji.transform(valid_emoticon_X)"
   ]
  },
  {
   "cell_type": "code",
   "execution_count": 38,
   "metadata": {},
   "outputs": [
    {
     "data": {
      "text/plain": [
       "((7080, 107), (7080, 50), (7080, 1248))"
      ]
     },
     "execution_count": 38,
     "metadata": {},
     "output_type": "execute_result"
    }
   ],
   "source": [
    "train_emoticon_X.shape, train_seq_X.shape, train_feat_X.shape"
   ]
  },
  {
   "cell_type": "code",
   "execution_count": 39,
   "metadata": {},
   "outputs": [],
   "source": [
    "# append the features\n",
    "train_X = np.concatenate([train_seq_X, train_emoticon_X, train_feat_X], axis=1)\n",
    "valid_X = np.concatenate([valid_seq_X, valid_emoticon_X, valid_feat_X], axis=1)"
   ]
  },
  {
   "cell_type": "code",
   "execution_count": 40,
   "metadata": {},
   "outputs": [
    {
     "name": "stdout",
     "output_type": "stream",
     "text": [
      "0.9120654396728016\n"
     ]
    }
   ],
   "source": [
    "# train a random forest classifier\n",
    "from sklearn.ensemble import RandomForestClassifier\n",
    "from sklearn.metrics import classification_report\n",
    "\n",
    "clf = RandomForestClassifier(n_estimators=150, max_depth=8, random_state=2)\n",
    "clf.fit(train_X, train_seq_Y)\n",
    "pred_Y = clf.predict(valid_X)\n",
    "print(accuracy_score(valid_seq_Y, pred_Y))\n"
   ]
  },
  {
   "cell_type": "code",
   "execution_count": 41,
   "metadata": {},
   "outputs": [
    {
     "name": "stdout",
     "output_type": "stream",
     "text": [
      "0.983640081799591\n"
     ]
    }
   ],
   "source": [
    "# train a logistic regression classifier\n",
    "\n",
    "from sklearn.linear_model import LogisticRegression\n",
    "from sklearn.metrics import accuracy_score\n",
    "\n",
    "clf = LogisticRegression(max_iter=1000)\n",
    "clf.fit(train_X, train_seq_Y)\n",
    "pred_Y = clf.predict(valid_X)\n",
    "print(accuracy_score(valid_seq_Y, pred_Y))"
   ]
  },
  {
   "cell_type": "code",
   "execution_count": 43,
   "metadata": {},
   "outputs": [
    {
     "name": "stdout",
     "output_type": "stream",
     "text": [
      "0.9775051124744376\n"
     ]
    }
   ],
   "source": [
    "# split into 20,40,60,80 and report the accuracy\n",
    "from sklearn.model_selection import train_test_split\n",
    "from sklearn.metrics import accuracy_score\n",
    "\n",
    "train_X_80, test_X_80, train_Y_80, test_Y_80 = train_test_split(train_X, train_seq_Y, test_size=0.2, random_state=2)\n",
    "clf80 = LogisticRegression(max_iter=1000)\n",
    "clf80.fit(train_X_80, train_Y_80)\n",
    "pred_Y = clf80.predict(valid_X)\n",
    "print(accuracy_score(valid_seq_Y, pred_Y))"
   ]
  },
  {
   "cell_type": "code",
   "execution_count": 44,
   "metadata": {},
   "outputs": [
    {
     "name": "stdout",
     "output_type": "stream",
     "text": [
      "0.9713701431492843\n"
     ]
    }
   ],
   "source": [
    "train_X_60, test_X_60, train_Y_60, test_Y_60 = train_test_split(train_X, train_seq_Y, test_size=0.4, random_state=2)\n",
    "clf60 = LogisticRegression(max_iter=1000)\n",
    "clf60.fit(train_X_60, train_Y_60)\n",
    "pred_Y = clf60.predict(valid_X)\n",
    "print(accuracy_score(valid_seq_Y, pred_Y))"
   ]
  },
  {
   "cell_type": "code",
   "execution_count": 45,
   "metadata": {},
   "outputs": [
    {
     "name": "stdout",
     "output_type": "stream",
     "text": [
      "0.9631901840490797\n"
     ]
    }
   ],
   "source": [
    "train_X_40, test_X_40, train_Y_40, test_Y_40 = train_test_split(train_X, train_seq_Y, test_size=0.6, random_state=2)\n",
    "clf40 = LogisticRegression(max_iter=1000)\n",
    "clf40.fit(train_X_40, train_Y_40)\n",
    "pred_Y = clf40.predict(valid_X)\n",
    "print(accuracy_score(valid_seq_Y, pred_Y))"
   ]
  },
  {
   "cell_type": "code",
   "execution_count": 46,
   "metadata": {},
   "outputs": [
    {
     "name": "stdout",
     "output_type": "stream",
     "text": [
      "0.9325153374233128\n"
     ]
    }
   ],
   "source": [
    "train_X_20, test_X_20, train_Y_20, test_Y_20 = train_test_split(train_X, train_seq_Y, test_size=0.8, random_state=2)\n",
    "clf20 = LogisticRegression(max_iter=1000)\n",
    "clf20.fit(train_X_20, train_Y_20)\n",
    "pred_Y = clf20.predict(valid_X)\n",
    "print(accuracy_score(valid_seq_Y, pred_Y))"
   ]
  },
  {
   "cell_type": "code",
   "execution_count": null,
   "metadata": {},
   "outputs": [],
   "source": []
  }
 ],
 "metadata": {
  "kernelspec": {
   "display_name": "Python 3",
   "language": "python",
   "name": "python3"
  },
  "language_info": {
   "codemirror_mode": {
    "name": "ipython",
    "version": 3
   },
   "file_extension": ".py",
   "mimetype": "text/x-python",
   "name": "python",
   "nbconvert_exporter": "python",
   "pygments_lexer": "ipython3",
   "version": "3.11.5"
  }
 },
 "nbformat": 4,
 "nbformat_minor": 2
}
