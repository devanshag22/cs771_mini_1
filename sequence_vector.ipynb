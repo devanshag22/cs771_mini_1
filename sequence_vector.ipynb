{
 "cells": [
  {
   "cell_type": "code",
   "execution_count": 1,
   "metadata": {},
   "outputs": [],
   "source": [
    "import pandas as pd\n",
    "import numpy as np"
   ]
  },
  {
   "cell_type": "code",
   "execution_count": 2,
   "metadata": {},
   "outputs": [],
   "source": [
    "# read text sequence dataset\n",
    "train_seq_df = pd.read_csv(\"datasets/train/train_text_seq.csv\")\n",
    "train_seq_Y = train_seq_df['label']\n",
    "\n",
    "val_seq_df = pd.read_csv(\"datasets/valid/valid_text_seq.csv\")\n",
    "val_seq_Y = val_seq_df['label']"
   ]
  },
  {
   "cell_type": "code",
   "execution_count": 3,
   "metadata": {},
   "outputs": [
    {
     "data": {
      "text/html": [
       "<div>\n",
       "<style scoped>\n",
       "    .dataframe tbody tr th:only-of-type {\n",
       "        vertical-align: middle;\n",
       "    }\n",
       "\n",
       "    .dataframe tbody tr th {\n",
       "        vertical-align: top;\n",
       "    }\n",
       "\n",
       "    .dataframe thead th {\n",
       "        text-align: right;\n",
       "    }\n",
       "</style>\n",
       "<table border=\"1\" class=\"dataframe\">\n",
       "  <thead>\n",
       "    <tr style=\"text-align: right;\">\n",
       "      <th></th>\n",
       "      <th>input_str</th>\n",
       "      <th>label</th>\n",
       "    </tr>\n",
       "  </thead>\n",
       "  <tbody>\n",
       "    <tr>\n",
       "      <th>0</th>\n",
       "      <td>0000154364642718159661428002624223132284159626...</td>\n",
       "      <td>0</td>\n",
       "    </tr>\n",
       "    <tr>\n",
       "      <th>1</th>\n",
       "      <td>0004641596369515436422262614110471596262476161...</td>\n",
       "      <td>0</td>\n",
       "    </tr>\n",
       "    <tr>\n",
       "      <th>2</th>\n",
       "      <td>0001543626215965999614422464135806142624051159...</td>\n",
       "      <td>0</td>\n",
       "    </tr>\n",
       "    <tr>\n",
       "      <th>3</th>\n",
       "      <td>0000154364224641238614262159689561596284351061...</td>\n",
       "      <td>1</td>\n",
       "    </tr>\n",
       "    <tr>\n",
       "      <th>4</th>\n",
       "      <td>0004641899422154362069015966142624761262159661...</td>\n",
       "      <td>1</td>\n",
       "    </tr>\n",
       "  </tbody>\n",
       "</table>\n",
       "</div>"
      ],
      "text/plain": [
       "                                           input_str  label\n",
       "0  0000154364642718159661428002624223132284159626...      0\n",
       "1  0004641596369515436422262614110471596262476161...      0\n",
       "2  0001543626215965999614422464135806142624051159...      0\n",
       "3  0000154364224641238614262159689561596284351061...      1\n",
       "4  0004641899422154362069015966142624761262159661...      1"
      ]
     },
     "execution_count": 3,
     "metadata": {},
     "output_type": "execute_result"
    }
   ],
   "source": [
    "train_seq_df.head()"
   ]
  },
  {
   "cell_type": "code",
   "execution_count": 4,
   "metadata": {},
   "outputs": [],
   "source": [
    "train_X = train_seq_df['input_str'].apply(lambda x: pd.Series(list(x)))\n",
    "train_X.columns = [f'col_{i+1}' for i in range(50)]\n",
    "train_X = train_X.astype(int)"
   ]
  },
  {
   "cell_type": "code",
   "execution_count": 5,
   "metadata": {},
   "outputs": [
    {
     "name": "stdout",
     "output_type": "stream",
     "text": [
      "<class 'pandas.core.frame.DataFrame'>\n",
      "RangeIndex: 7080 entries, 0 to 7079\n",
      "Data columns (total 50 columns):\n",
      " #   Column  Non-Null Count  Dtype\n",
      "---  ------  --------------  -----\n",
      " 0   col_1   7080 non-null   int32\n",
      " 1   col_2   7080 non-null   int32\n",
      " 2   col_3   7080 non-null   int32\n",
      " 3   col_4   7080 non-null   int32\n",
      " 4   col_5   7080 non-null   int32\n",
      " 5   col_6   7080 non-null   int32\n",
      " 6   col_7   7080 non-null   int32\n",
      " 7   col_8   7080 non-null   int32\n",
      " 8   col_9   7080 non-null   int32\n",
      " 9   col_10  7080 non-null   int32\n",
      " 10  col_11  7080 non-null   int32\n",
      " 11  col_12  7080 non-null   int32\n",
      " 12  col_13  7080 non-null   int32\n",
      " 13  col_14  7080 non-null   int32\n",
      " 14  col_15  7080 non-null   int32\n",
      " 15  col_16  7080 non-null   int32\n",
      " 16  col_17  7080 non-null   int32\n",
      " 17  col_18  7080 non-null   int32\n",
      " 18  col_19  7080 non-null   int32\n",
      " 19  col_20  7080 non-null   int32\n",
      " 20  col_21  7080 non-null   int32\n",
      " 21  col_22  7080 non-null   int32\n",
      " 22  col_23  7080 non-null   int32\n",
      " 23  col_24  7080 non-null   int32\n",
      " 24  col_25  7080 non-null   int32\n",
      " 25  col_26  7080 non-null   int32\n",
      " 26  col_27  7080 non-null   int32\n",
      " 27  col_28  7080 non-null   int32\n",
      " 28  col_29  7080 non-null   int32\n",
      " 29  col_30  7080 non-null   int32\n",
      " 30  col_31  7080 non-null   int32\n",
      " 31  col_32  7080 non-null   int32\n",
      " 32  col_33  7080 non-null   int32\n",
      " 33  col_34  7080 non-null   int32\n",
      " 34  col_35  7080 non-null   int32\n",
      " 35  col_36  7080 non-null   int32\n",
      " 36  col_37  7080 non-null   int32\n",
      " 37  col_38  7080 non-null   int32\n",
      " 38  col_39  7080 non-null   int32\n",
      " 39  col_40  7080 non-null   int32\n",
      " 40  col_41  7080 non-null   int32\n",
      " 41  col_42  7080 non-null   int32\n",
      " 42  col_43  7080 non-null   int32\n",
      " 43  col_44  7080 non-null   int32\n",
      " 44  col_45  7080 non-null   int32\n",
      " 45  col_46  7080 non-null   int32\n",
      " 46  col_47  7080 non-null   int32\n",
      " 47  col_48  7080 non-null   int32\n",
      " 48  col_49  7080 non-null   int32\n",
      " 49  col_50  7080 non-null   int32\n",
      "dtypes: int32(50)\n",
      "memory usage: 1.4 MB\n"
     ]
    }
   ],
   "source": [
    "train_X.info()"
   ]
  },
  {
   "cell_type": "code",
   "execution_count": 6,
   "metadata": {},
   "outputs": [],
   "source": [
    "val_X = val_seq_df['input_str'].apply(lambda x: pd.Series(list(x)))\n",
    "val_X.columns = [f'col_{i+1}' for i in range(50)]\n",
    "val_X = val_X.astype(int)"
   ]
  },
  {
   "cell_type": "code",
   "execution_count": 7,
   "metadata": {},
   "outputs": [],
   "source": [
    "# split the data into 5 forms one consisting of 20% of the data 40% of the data 60% of the data 80% of the data and 100% of the data\n",
    "from sklearn.model_selection import train_test_split\n",
    "X_train_20, X_test_20, y_train_20, y_test_20 = train_test_split(train_X, train_seq_Y, test_size=0.8, random_state=42)\n",
    "X_train_40, X_test_40, y_train_40, y_test_40 = train_test_split(train_X, train_seq_Y, test_size=0.6, random_state=42)\n",
    "X_train_60, X_test_60, y_train_60, y_test_60 = train_test_split(train_X, train_seq_Y, test_size=0.4, random_state=42)\n",
    "X_train_80, X_test_80, y_train_80, y_test_80 = train_test_split(train_X, train_seq_Y, test_size=0.2, random_state=42)\n",
    "X_train_100 = train_X\n",
    "y_train_100 = train_seq_Y"
   ]
  },
  {
   "cell_type": "code",
   "execution_count": 8,
   "metadata": {},
   "outputs": [],
   "source": [
    "from sklearn.ensemble import RandomForestClassifier\n",
    "from sklearn.metrics import accuracy_score"
   ]
  },
  {
   "cell_type": "code",
   "execution_count": 51,
   "metadata": {},
   "outputs": [
    {
     "name": "stdout",
     "output_type": "stream",
     "text": [
      "Accuracy of 20% of the data:  0.5521472392638037\n"
     ]
    }
   ],
   "source": [
    "rf_20 = RandomForestClassifier(n_estimators=100, random_state=42)\n",
    "rf_20.fit(X_train_20, y_train_20)\n",
    "y_pred_20 = rf_20.predict(val_X)\n",
    "accuracy_20 = accuracy_score(val_seq_Y, y_pred_20)\n",
    "print(\"Accuracy of 20% of the data: \", accuracy_20)\n"
   ]
  },
  {
   "cell_type": "code",
   "execution_count": 52,
   "metadata": {},
   "outputs": [
    {
     "name": "stdout",
     "output_type": "stream",
     "text": [
      "Accuracy of 40% of the data:  0.6053169734151329\n"
     ]
    }
   ],
   "source": [
    "rf_40 = RandomForestClassifier(n_estimators=100, random_state=42)\n",
    "rf_40.fit(X_train_40, y_train_40)\n",
    "y_pred_40 = rf_40.predict(val_X)\n",
    "accuracy_40 = accuracy_score(val_seq_Y, y_pred_40)\n",
    "print(\"Accuracy of 40% of the data: \", accuracy_40)\n"
   ]
  },
  {
   "cell_type": "code",
   "execution_count": 53,
   "metadata": {},
   "outputs": [
    {
     "name": "stdout",
     "output_type": "stream",
     "text": [
      "Accuracy of 60% of the data:  0.6053169734151329\n"
     ]
    }
   ],
   "source": [
    "rf_60 = RandomForestClassifier(n_estimators=100, random_state=42)\n",
    "rf_60.fit(X_train_60, y_train_60)\n",
    "y_pred_60 = rf_60.predict(val_X)\n",
    "accuracy_60 = accuracy_score(val_seq_Y, y_pred_60)\n",
    "print(\"Accuracy of 60% of the data: \", accuracy_60)\n"
   ]
  },
  {
   "cell_type": "code",
   "execution_count": 54,
   "metadata": {},
   "outputs": [
    {
     "name": "stdout",
     "output_type": "stream",
     "text": [
      "Accuracy of 80% of the data:  0.5950920245398773\n"
     ]
    }
   ],
   "source": [
    "rf_80 = RandomForestClassifier(n_estimators=100, random_state=42)\n",
    "rf_80.fit(X_train_80, y_train_80)\n",
    "y_pred_80 = rf_80.predict(val_X)\n",
    "accuracy_80 = accuracy_score(val_seq_Y, y_pred_80)\n",
    "print(\"Accuracy of 80% of the data: \", accuracy_80)\n"
   ]
  },
  {
   "cell_type": "code",
   "execution_count": 55,
   "metadata": {},
   "outputs": [
    {
     "name": "stdout",
     "output_type": "stream",
     "text": [
      "Accuracy of 100% of the data:  0.6339468302658486\n"
     ]
    }
   ],
   "source": [
    "rf_100 = RandomForestClassifier(n_estimators=100, random_state=42)\n",
    "rf_100.fit(X_train_100, y_train_100)\n",
    "y_pred_100 = rf_100.predict(val_X)\n",
    "accuracy_100 = accuracy_score(val_seq_Y, y_pred_100)\n",
    "print(\"Accuracy of 100% of the data: \", accuracy_100)\n"
   ]
  },
  {
   "cell_type": "code",
   "execution_count": 9,
   "metadata": {},
   "outputs": [],
   "source": [
    "# train a deep learning model\n",
    "from keras.models import Sequential\n",
    "from keras.layers import Dense\n",
    "from keras.layers import Dropout\n",
    "from keras.layers import Flatten\n",
    "from keras.layers import Conv1D\n",
    "from keras.layers import MaxPooling1D\n",
    "from keras.layers import Embedding\n",
    "from keras.preprocessing import sequence"
   ]
  },
  {
   "cell_type": "code",
   "execution_count": 14,
   "metadata": {},
   "outputs": [
    {
     "name": "stdout",
     "output_type": "stream",
     "text": [
      "Model: \"sequential_2\"\n",
      "_________________________________________________________________\n",
      " Layer (type)                Output Shape              Param #   \n",
      "=================================================================\n",
      " embedding_2 (Embedding)     (None, 50, 16)            4096      \n",
      "                                                                 \n",
      " conv1d_2 (Conv1D)           (None, 50, 8)             520       \n",
      "                                                                 \n",
      " max_pooling1d_2 (MaxPoolin  (None, 25, 8)             0         \n",
      " g1D)                                                            \n",
      "                                                                 \n",
      " flatten_2 (Flatten)         (None, 200)               0         \n",
      "                                                                 \n",
      " dense_4 (Dense)             (None, 32)                6432      \n",
      "                                                                 \n",
      " dense_5 (Dense)             (None, 1)                 33        \n",
      "                                                                 \n",
      "=================================================================\n",
      "Total params: 11081 (43.29 KB)\n",
      "Trainable params: 11081 (43.29 KB)\n",
      "Non-trainable params: 0 (0.00 Byte)\n",
      "_________________________________________________________________\n",
      "None\n"
     ]
    }
   ],
   "source": [
    "# create the model\n",
    "model = Sequential()\n",
    "model.add(Embedding(256, 16, input_length=50))\n",
    "model.add(Conv1D(filters=8, kernel_size=4, padding='same', activation='relu'))\n",
    "model.add(MaxPooling1D(pool_size=2))\n",
    "model.add(Flatten())\n",
    "model.add(Dense(32, activation='relu'))\n",
    "model.add(Dense(1, activation='sigmoid'))\n",
    "model.compile(loss='binary_crossentropy', optimizer='adam', metrics=['accuracy'])\n",
    "print(model.summary())"
   ]
  },
  {
   "cell_type": "code",
   "execution_count": 15,
   "metadata": {},
   "outputs": [
    {
     "name": "stdout",
     "output_type": "stream",
     "text": [
      "Epoch 1/50\n",
      "111/111 [==============================] - 1s 4ms/step - loss: 0.6921 - accuracy: 0.5230 - val_loss: 0.6902 - val_accuracy: 0.5542\n",
      "Epoch 2/50\n",
      "111/111 [==============================] - 0s 3ms/step - loss: 0.6680 - accuracy: 0.6061 - val_loss: 0.6348 - val_accuracy: 0.6237\n",
      "Epoch 3/50\n",
      "111/111 [==============================] - 0s 3ms/step - loss: 0.6076 - accuracy: 0.6684 - val_loss: 0.5797 - val_accuracy: 0.7055\n",
      "Epoch 4/50\n",
      "111/111 [==============================] - 0s 2ms/step - loss: 0.5734 - accuracy: 0.7013 - val_loss: 0.5620 - val_accuracy: 0.7035\n",
      "Epoch 5/50\n",
      "111/111 [==============================] - 0s 2ms/step - loss: 0.5530 - accuracy: 0.7134 - val_loss: 0.5445 - val_accuracy: 0.7219\n",
      "Epoch 6/50\n",
      "111/111 [==============================] - 0s 2ms/step - loss: 0.5373 - accuracy: 0.7258 - val_loss: 0.5324 - val_accuracy: 0.7423\n",
      "Epoch 7/50\n",
      "111/111 [==============================] - 0s 2ms/step - loss: 0.5240 - accuracy: 0.7350 - val_loss: 0.5244 - val_accuracy: 0.7280\n",
      "Epoch 8/50\n",
      "111/111 [==============================] - 0s 2ms/step - loss: 0.5130 - accuracy: 0.7462 - val_loss: 0.5142 - val_accuracy: 0.7342\n",
      "Epoch 9/50\n",
      "111/111 [==============================] - 0s 2ms/step - loss: 0.4991 - accuracy: 0.7561 - val_loss: 0.5053 - val_accuracy: 0.7526\n",
      "Epoch 10/50\n",
      "111/111 [==============================] - 0s 3ms/step - loss: 0.4888 - accuracy: 0.7612 - val_loss: 0.4994 - val_accuracy: 0.7526\n",
      "Epoch 11/50\n",
      "111/111 [==============================] - 0s 2ms/step - loss: 0.4769 - accuracy: 0.7677 - val_loss: 0.5085 - val_accuracy: 0.7505\n",
      "Epoch 12/50\n",
      "111/111 [==============================] - 0s 2ms/step - loss: 0.4669 - accuracy: 0.7792 - val_loss: 0.4944 - val_accuracy: 0.7444\n",
      "Epoch 13/50\n",
      "111/111 [==============================] - 0s 3ms/step - loss: 0.4532 - accuracy: 0.7881 - val_loss: 0.4925 - val_accuracy: 0.7464\n",
      "Epoch 14/50\n",
      "111/111 [==============================] - 0s 2ms/step - loss: 0.4453 - accuracy: 0.7910 - val_loss: 0.4850 - val_accuracy: 0.7710\n",
      "Epoch 15/50\n",
      "111/111 [==============================] - 0s 2ms/step - loss: 0.4363 - accuracy: 0.7989 - val_loss: 0.4793 - val_accuracy: 0.7648\n",
      "Epoch 16/50\n",
      "111/111 [==============================] - 0s 4ms/step - loss: 0.4288 - accuracy: 0.8034 - val_loss: 0.4777 - val_accuracy: 0.7669\n",
      "Epoch 17/50\n",
      "111/111 [==============================] - 0s 4ms/step - loss: 0.4180 - accuracy: 0.8055 - val_loss: 0.4702 - val_accuracy: 0.7730\n",
      "Epoch 18/50\n",
      "111/111 [==============================] - 0s 2ms/step - loss: 0.4092 - accuracy: 0.8129 - val_loss: 0.4688 - val_accuracy: 0.7832\n",
      "Epoch 19/50\n",
      "111/111 [==============================] - 0s 2ms/step - loss: 0.4017 - accuracy: 0.8191 - val_loss: 0.4632 - val_accuracy: 0.7751\n",
      "Epoch 20/50\n",
      "111/111 [==============================] - 0s 2ms/step - loss: 0.3958 - accuracy: 0.8194 - val_loss: 0.4626 - val_accuracy: 0.7894\n",
      "Epoch 21/50\n",
      "111/111 [==============================] - 0s 2ms/step - loss: 0.3862 - accuracy: 0.8266 - val_loss: 0.4604 - val_accuracy: 0.7812\n",
      "Epoch 22/50\n",
      "111/111 [==============================] - 0s 3ms/step - loss: 0.3799 - accuracy: 0.8278 - val_loss: 0.4639 - val_accuracy: 0.7669\n",
      "Epoch 23/50\n",
      "111/111 [==============================] - 0s 3ms/step - loss: 0.3733 - accuracy: 0.8328 - val_loss: 0.4640 - val_accuracy: 0.7710\n",
      "Epoch 24/50\n",
      "111/111 [==============================] - 0s 3ms/step - loss: 0.3706 - accuracy: 0.8339 - val_loss: 0.4543 - val_accuracy: 0.7894\n",
      "Epoch 25/50\n",
      "111/111 [==============================] - 0s 2ms/step - loss: 0.3605 - accuracy: 0.8376 - val_loss: 0.4624 - val_accuracy: 0.7791\n",
      "Epoch 26/50\n",
      "111/111 [==============================] - 0s 2ms/step - loss: 0.3558 - accuracy: 0.8422 - val_loss: 0.4639 - val_accuracy: 0.7832\n",
      "Epoch 27/50\n",
      "111/111 [==============================] - 0s 3ms/step - loss: 0.3479 - accuracy: 0.8459 - val_loss: 0.4524 - val_accuracy: 0.7791\n",
      "Epoch 28/50\n",
      "111/111 [==============================] - 0s 2ms/step - loss: 0.3414 - accuracy: 0.8487 - val_loss: 0.4551 - val_accuracy: 0.7812\n",
      "Epoch 29/50\n",
      "111/111 [==============================] - 0s 2ms/step - loss: 0.3384 - accuracy: 0.8565 - val_loss: 0.4615 - val_accuracy: 0.7730\n",
      "Epoch 30/50\n",
      "111/111 [==============================] - 0s 2ms/step - loss: 0.3316 - accuracy: 0.8572 - val_loss: 0.4609 - val_accuracy: 0.7730\n",
      "Epoch 31/50\n",
      "111/111 [==============================] - 0s 2ms/step - loss: 0.3275 - accuracy: 0.8581 - val_loss: 0.4663 - val_accuracy: 0.7771\n",
      "Epoch 32/50\n",
      "111/111 [==============================] - 0s 2ms/step - loss: 0.3226 - accuracy: 0.8586 - val_loss: 0.4573 - val_accuracy: 0.7853\n",
      "Epoch 33/50\n",
      "111/111 [==============================] - 0s 2ms/step - loss: 0.3145 - accuracy: 0.8634 - val_loss: 0.4709 - val_accuracy: 0.7791\n",
      "Epoch 34/50\n",
      "111/111 [==============================] - 0s 2ms/step - loss: 0.3102 - accuracy: 0.8682 - val_loss: 0.4589 - val_accuracy: 0.7771\n",
      "Epoch 35/50\n",
      "111/111 [==============================] - 0s 2ms/step - loss: 0.3062 - accuracy: 0.8694 - val_loss: 0.4619 - val_accuracy: 0.7751\n",
      "Epoch 36/50\n",
      "111/111 [==============================] - 0s 2ms/step - loss: 0.2998 - accuracy: 0.8726 - val_loss: 0.4632 - val_accuracy: 0.7689\n",
      "Epoch 37/50\n",
      "111/111 [==============================] - 0s 2ms/step - loss: 0.2985 - accuracy: 0.8708 - val_loss: 0.4651 - val_accuracy: 0.7791\n",
      "Epoch 38/50\n",
      "111/111 [==============================] - 0s 2ms/step - loss: 0.2923 - accuracy: 0.8757 - val_loss: 0.4716 - val_accuracy: 0.7791\n",
      "Epoch 39/50\n",
      "111/111 [==============================] - 0s 2ms/step - loss: 0.2859 - accuracy: 0.8778 - val_loss: 0.4731 - val_accuracy: 0.7710\n",
      "Epoch 40/50\n",
      "111/111 [==============================] - 0s 2ms/step - loss: 0.2798 - accuracy: 0.8802 - val_loss: 0.4906 - val_accuracy: 0.7853\n",
      "Epoch 41/50\n",
      "111/111 [==============================] - 0s 2ms/step - loss: 0.2779 - accuracy: 0.8823 - val_loss: 0.5071 - val_accuracy: 0.7689\n",
      "Epoch 42/50\n",
      "111/111 [==============================] - 0s 2ms/step - loss: 0.2750 - accuracy: 0.8836 - val_loss: 0.4882 - val_accuracy: 0.7710\n",
      "Epoch 43/50\n",
      "111/111 [==============================] - 0s 2ms/step - loss: 0.2692 - accuracy: 0.8843 - val_loss: 0.4872 - val_accuracy: 0.7935\n",
      "Epoch 44/50\n",
      "111/111 [==============================] - 0s 2ms/step - loss: 0.2624 - accuracy: 0.8897 - val_loss: 0.4924 - val_accuracy: 0.7853\n",
      "Epoch 45/50\n",
      "111/111 [==============================] - 0s 2ms/step - loss: 0.2643 - accuracy: 0.8910 - val_loss: 0.5120 - val_accuracy: 0.7730\n",
      "Epoch 46/50\n",
      "111/111 [==============================] - 0s 2ms/step - loss: 0.2580 - accuracy: 0.8907 - val_loss: 0.4989 - val_accuracy: 0.7935\n",
      "Epoch 47/50\n",
      "111/111 [==============================] - 0s 2ms/step - loss: 0.2507 - accuracy: 0.8953 - val_loss: 0.5023 - val_accuracy: 0.7832\n",
      "Epoch 48/50\n",
      "111/111 [==============================] - 0s 2ms/step - loss: 0.2469 - accuracy: 0.8990 - val_loss: 0.5026 - val_accuracy: 0.7791\n",
      "Epoch 49/50\n",
      "111/111 [==============================] - 0s 3ms/step - loss: 0.2451 - accuracy: 0.8977 - val_loss: 0.5201 - val_accuracy: 0.7935\n",
      "Epoch 50/50\n",
      "111/111 [==============================] - 0s 3ms/step - loss: 0.2384 - accuracy: 0.9027 - val_loss: 0.5117 - val_accuracy: 0.7730\n"
     ]
    },
    {
     "data": {
      "text/plain": [
       "<keras.src.callbacks.History at 0x203a17d33d0>"
      ]
     },
     "execution_count": 15,
     "metadata": {},
     "output_type": "execute_result"
    }
   ],
   "source": [
    "model.fit(X_train_100, y_train_100, validation_data=(val_X, val_seq_Y), epochs=50, batch_size=64)"
   ]
  },
  {
   "cell_type": "code",
   "execution_count": null,
   "metadata": {},
   "outputs": [],
   "source": []
  }
 ],
 "metadata": {
  "kernelspec": {
   "display_name": "Python 3",
   "language": "python",
   "name": "python3"
  },
  "language_info": {
   "codemirror_mode": {
    "name": "ipython",
    "version": 3
   },
   "file_extension": ".py",
   "mimetype": "text/x-python",
   "name": "python",
   "nbconvert_exporter": "python",
   "pygments_lexer": "ipython3",
   "version": "3.11.5"
  }
 },
 "nbformat": 4,
 "nbformat_minor": 2
}
