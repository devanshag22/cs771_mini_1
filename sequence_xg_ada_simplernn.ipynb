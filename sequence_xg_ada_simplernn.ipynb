{
 "cells": [
  {
   "cell_type": "code",
   "execution_count": 7,
   "metadata": {},
   "outputs": [],
   "source": [
    "import numpy as np\n",
    "import pandas as pd\n",
    "from sklearn.ensemble import AdaBoostClassifier\n",
    "from sklearn.metrics import accuracy_score\n",
    "from sklearn.model_selection import train_test_split\n",
    "from xgboost import XGBClassifier"
   ]
  },
  {
   "cell_type": "code",
   "execution_count": 8,
   "metadata": {},
   "outputs": [],
   "source": [
    "# read text sequence dataset\n",
    "train_seq_df = pd.read_csv(\"datasets/train/train_text_seq.csv\")\n",
    "train_seq_Y = train_seq_df['label']\n",
    "\n",
    "val_seq_df = pd.read_csv(\"datasets/valid/valid_text_seq.csv\")\n",
    "val_seq_Y = val_seq_df['label']"
   ]
  },
  {
   "cell_type": "code",
   "execution_count": 9,
   "metadata": {},
   "outputs": [],
   "source": [
    "train_X = train_seq_df['input_str'].apply(lambda x: pd.Series(list(x)))\n",
    "train_X.columns = [f'col_{i+1}' for i in range(50)]\n",
    "train_X = train_X.astype(int)"
   ]
  },
  {
   "cell_type": "code",
   "execution_count": 10,
   "metadata": {},
   "outputs": [],
   "source": [
    "val_X = val_seq_df['input_str'].apply(lambda x: pd.Series(list(x)))\n",
    "val_X.columns = [f'col_{i+1}' for i in range(50)]\n",
    "val_X = val_X.astype(int)"
   ]
  },
  {
   "cell_type": "code",
   "execution_count": 11,
   "metadata": {},
   "outputs": [
    {
     "name": "stdout",
     "output_type": "stream",
     "text": [
      "Accuracy: 0.6523517382413088\n"
     ]
    }
   ],
   "source": [
    "# apply AdaBoost\n",
    "model = AdaBoostClassifier(n_estimators=100, random_state=0)\n",
    "model.fit(train_X, train_seq_Y)\n",
    "y_pred = model.predict(val_X)\n",
    "accuracy = accuracy_score(val_seq_Y, y_pred)\n",
    "print(f'Accuracy: {accuracy}')"
   ]
  },
  {
   "cell_type": "code",
   "execution_count": 12,
   "metadata": {},
   "outputs": [
    {
     "name": "stdout",
     "output_type": "stream",
     "text": [
      "Accuracy: 0.6605316973415133\n"
     ]
    }
   ],
   "source": [
    "# apply xgboost\n",
    "model = XGBClassifier()\n",
    "model.fit(train_X, train_seq_Y)\n",
    "y_pred = model.predict(val_X)\n",
    "accuracy = accuracy_score(val_seq_Y, y_pred)\n",
    "print(f'Accuracy: {accuracy}')\n",
    "\n"
   ]
  },
  {
   "cell_type": "code",
   "execution_count": 13,
   "metadata": {},
   "outputs": [],
   "source": [
    "# create an rnn model for text sequence classification\n",
    "import tensorflow as tf\n",
    "from tensorflow.keras import layers, models\n",
    "from tensorflow.keras.models import Sequential\n",
    "from tensorflow.keras.layers import Dense, LSTM, Embedding, Dropout, RNN, SimpleRNN, GRU"
   ]
  },
  {
   "cell_type": "code",
   "execution_count": 19,
   "metadata": {},
   "outputs": [
    {
     "name": "stdout",
     "output_type": "stream",
     "text": [
      "Model: \"sequential_5\"\n",
      "_________________________________________________________________\n",
      " Layer (type)                Output Shape              Param #   \n",
      "=================================================================\n",
      " embedding_5 (Embedding)     (None, 50, 48)            6144      \n",
      "                                                                 \n",
      " simple_rnn_3 (SimpleRNN)    (None, 32)                2592      \n",
      "                                                                 \n",
      " dense_5 (Dense)             (None, 1)                 33        \n",
      "                                                                 \n",
      "=================================================================\n",
      "Total params: 8769 (34.25 KB)\n",
      "Trainable params: 8769 (34.25 KB)\n",
      "Non-trainable params: 0 (0.00 Byte)\n",
      "_________________________________________________________________\n",
      "None\n"
     ]
    }
   ],
   "source": [
    "# create a simple rnn model\n",
    "model = Sequential()\n",
    "model.add(Embedding(128, 48, input_length=50))\n",
    "model.add(SimpleRNN(32))\n",
    "model.add(Dense(1, activation='sigmoid'))\n",
    "model.compile(optimizer='adam', loss='binary_crossentropy', metrics=['accuracy'])\n",
    "print(model.summary())\n"
   ]
  },
  {
   "cell_type": "code",
   "execution_count": 20,
   "metadata": {},
   "outputs": [
    {
     "name": "stdout",
     "output_type": "stream",
     "text": [
      "Epoch 1/50\n",
      "111/111 [==============================] - 2s 8ms/step - loss: 0.6815 - accuracy: 0.5494 - val_loss: 0.6625 - val_accuracy: 0.6053\n",
      "Epoch 2/50\n",
      "111/111 [==============================] - 1s 6ms/step - loss: 0.6387 - accuracy: 0.6352 - val_loss: 0.6317 - val_accuracy: 0.6360\n",
      "Epoch 3/50\n",
      "111/111 [==============================] - 1s 5ms/step - loss: 0.6170 - accuracy: 0.6638 - val_loss: 0.6219 - val_accuracy: 0.6462\n",
      "Epoch 4/50\n",
      "111/111 [==============================] - 1s 5ms/step - loss: 0.6097 - accuracy: 0.6662 - val_loss: 0.6046 - val_accuracy: 0.6462\n",
      "Epoch 5/50\n",
      "111/111 [==============================] - 1s 5ms/step - loss: 0.6024 - accuracy: 0.6737 - val_loss: 0.6163 - val_accuracy: 0.6421\n",
      "Epoch 6/50\n",
      "111/111 [==============================] - 1s 5ms/step - loss: 0.6038 - accuracy: 0.6742 - val_loss: 0.5998 - val_accuracy: 0.6667\n",
      "Epoch 7/50\n",
      "111/111 [==============================] - 1s 6ms/step - loss: 0.5882 - accuracy: 0.6898 - val_loss: 0.5927 - val_accuracy: 0.6708\n",
      "Epoch 8/50\n",
      "111/111 [==============================] - 1s 5ms/step - loss: 0.5869 - accuracy: 0.6883 - val_loss: 0.5967 - val_accuracy: 0.6687\n",
      "Epoch 9/50\n",
      "111/111 [==============================] - 1s 5ms/step - loss: 0.5815 - accuracy: 0.6907 - val_loss: 0.5936 - val_accuracy: 0.6933\n",
      "Epoch 10/50\n",
      "111/111 [==============================] - 1s 5ms/step - loss: 0.5739 - accuracy: 0.6968 - val_loss: 0.5992 - val_accuracy: 0.6769\n",
      "Epoch 11/50\n",
      "111/111 [==============================] - 1s 5ms/step - loss: 0.5695 - accuracy: 0.7056 - val_loss: 0.5842 - val_accuracy: 0.6769\n",
      "Epoch 12/50\n",
      "111/111 [==============================] - 1s 6ms/step - loss: 0.5659 - accuracy: 0.7061 - val_loss: 0.5986 - val_accuracy: 0.6892\n",
      "Epoch 13/50\n",
      "111/111 [==============================] - 1s 5ms/step - loss: 0.5631 - accuracy: 0.7069 - val_loss: 0.5783 - val_accuracy: 0.6912\n",
      "Epoch 14/50\n",
      "111/111 [==============================] - 1s 5ms/step - loss: 0.5534 - accuracy: 0.7158 - val_loss: 0.5950 - val_accuracy: 0.6851\n",
      "Epoch 15/50\n",
      "111/111 [==============================] - 1s 5ms/step - loss: 0.5506 - accuracy: 0.7192 - val_loss: 0.5664 - val_accuracy: 0.6994\n",
      "Epoch 16/50\n",
      "111/111 [==============================] - 1s 5ms/step - loss: 0.5492 - accuracy: 0.7274 - val_loss: 0.5895 - val_accuracy: 0.6973\n",
      "Epoch 17/50\n",
      "111/111 [==============================] - 1s 6ms/step - loss: 0.5475 - accuracy: 0.7205 - val_loss: 0.5657 - val_accuracy: 0.7178\n",
      "Epoch 18/50\n",
      "111/111 [==============================] - 1s 5ms/step - loss: 0.5380 - accuracy: 0.7326 - val_loss: 0.5703 - val_accuracy: 0.7239\n",
      "Epoch 19/50\n",
      "111/111 [==============================] - 1s 5ms/step - loss: 0.5355 - accuracy: 0.7329 - val_loss: 0.5633 - val_accuracy: 0.7178\n",
      "Epoch 20/50\n",
      "111/111 [==============================] - 1s 5ms/step - loss: 0.5348 - accuracy: 0.7371 - val_loss: 0.5619 - val_accuracy: 0.7178\n",
      "Epoch 21/50\n",
      "111/111 [==============================] - 1s 5ms/step - loss: 0.5244 - accuracy: 0.7408 - val_loss: 0.5630 - val_accuracy: 0.7280\n",
      "Epoch 22/50\n",
      "111/111 [==============================] - 1s 5ms/step - loss: 0.5237 - accuracy: 0.7432 - val_loss: 0.5573 - val_accuracy: 0.7301\n",
      "Epoch 23/50\n",
      "111/111 [==============================] - 1s 5ms/step - loss: 0.5172 - accuracy: 0.7463 - val_loss: 0.5475 - val_accuracy: 0.7178\n",
      "Epoch 24/50\n",
      "111/111 [==============================] - 1s 5ms/step - loss: 0.5160 - accuracy: 0.7434 - val_loss: 0.5526 - val_accuracy: 0.7301\n",
      "Epoch 25/50\n",
      "111/111 [==============================] - 1s 6ms/step - loss: 0.5179 - accuracy: 0.7445 - val_loss: 0.5485 - val_accuracy: 0.7321\n",
      "Epoch 26/50\n",
      "111/111 [==============================] - 1s 5ms/step - loss: 0.5141 - accuracy: 0.7477 - val_loss: 0.5532 - val_accuracy: 0.7055\n",
      "Epoch 27/50\n",
      "111/111 [==============================] - 1s 5ms/step - loss: 0.5133 - accuracy: 0.7528 - val_loss: 0.5541 - val_accuracy: 0.7280\n",
      "Epoch 28/50\n",
      "111/111 [==============================] - 1s 5ms/step - loss: 0.5010 - accuracy: 0.7573 - val_loss: 0.5461 - val_accuracy: 0.7301\n",
      "Epoch 29/50\n",
      "111/111 [==============================] - 1s 5ms/step - loss: 0.4995 - accuracy: 0.7583 - val_loss: 0.5580 - val_accuracy: 0.7382\n",
      "Epoch 30/50\n",
      "111/111 [==============================] - 1s 6ms/step - loss: 0.4994 - accuracy: 0.7592 - val_loss: 0.5421 - val_accuracy: 0.7362\n",
      "Epoch 31/50\n",
      "111/111 [==============================] - 1s 5ms/step - loss: 0.5015 - accuracy: 0.7572 - val_loss: 0.5374 - val_accuracy: 0.7280\n",
      "Epoch 32/50\n",
      "111/111 [==============================] - 1s 5ms/step - loss: 0.4860 - accuracy: 0.7682 - val_loss: 0.5439 - val_accuracy: 0.7342\n",
      "Epoch 33/50\n",
      "111/111 [==============================] - 1s 6ms/step - loss: 0.4838 - accuracy: 0.7678 - val_loss: 0.5441 - val_accuracy: 0.7403\n",
      "Epoch 34/50\n",
      "111/111 [==============================] - 1s 6ms/step - loss: 0.4809 - accuracy: 0.7689 - val_loss: 0.5674 - val_accuracy: 0.7178\n",
      "Epoch 35/50\n",
      "111/111 [==============================] - 1s 6ms/step - loss: 0.4883 - accuracy: 0.7641 - val_loss: 0.5457 - val_accuracy: 0.7280\n",
      "Epoch 36/50\n",
      "111/111 [==============================] - 1s 6ms/step - loss: 0.4809 - accuracy: 0.7715 - val_loss: 0.5280 - val_accuracy: 0.7239\n",
      "Epoch 37/50\n",
      "111/111 [==============================] - 1s 7ms/step - loss: 0.4726 - accuracy: 0.7727 - val_loss: 0.5282 - val_accuracy: 0.7526\n",
      "Epoch 38/50\n",
      "111/111 [==============================] - 1s 6ms/step - loss: 0.4816 - accuracy: 0.7705 - val_loss: 0.5462 - val_accuracy: 0.7198\n",
      "Epoch 39/50\n",
      "111/111 [==============================] - 1s 7ms/step - loss: 0.4713 - accuracy: 0.7754 - val_loss: 0.5314 - val_accuracy: 0.7301\n",
      "Epoch 40/50\n",
      "111/111 [==============================] - 1s 7ms/step - loss: 0.4669 - accuracy: 0.7780 - val_loss: 0.5321 - val_accuracy: 0.7342\n",
      "Epoch 41/50\n",
      "111/111 [==============================] - 1s 6ms/step - loss: 0.4679 - accuracy: 0.7801 - val_loss: 0.5440 - val_accuracy: 0.7178\n",
      "Epoch 42/50\n",
      "111/111 [==============================] - 1s 7ms/step - loss: 0.4650 - accuracy: 0.7829 - val_loss: 0.5378 - val_accuracy: 0.7505\n",
      "Epoch 43/50\n",
      "111/111 [==============================] - 1s 8ms/step - loss: 0.4607 - accuracy: 0.7823 - val_loss: 0.5495 - val_accuracy: 0.7239\n",
      "Epoch 44/50\n",
      "111/111 [==============================] - 1s 8ms/step - loss: 0.4628 - accuracy: 0.7874 - val_loss: 0.5337 - val_accuracy: 0.7382\n",
      "Epoch 45/50\n",
      "111/111 [==============================] - 1s 7ms/step - loss: 0.4605 - accuracy: 0.7782 - val_loss: 0.5462 - val_accuracy: 0.7280\n",
      "Epoch 46/50\n",
      "111/111 [==============================] - 1s 7ms/step - loss: 0.4572 - accuracy: 0.7857 - val_loss: 0.5399 - val_accuracy: 0.7280\n",
      "Epoch 47/50\n",
      "111/111 [==============================] - 1s 7ms/step - loss: 0.4536 - accuracy: 0.7886 - val_loss: 0.5388 - val_accuracy: 0.7280\n",
      "Epoch 48/50\n",
      "111/111 [==============================] - 1s 7ms/step - loss: 0.4501 - accuracy: 0.7900 - val_loss: 0.5438 - val_accuracy: 0.7423\n",
      "Epoch 49/50\n",
      "111/111 [==============================] - 1s 7ms/step - loss: 0.4437 - accuracy: 0.7959 - val_loss: 0.5366 - val_accuracy: 0.7301\n",
      "Epoch 50/50\n",
      "111/111 [==============================] - 1s 7ms/step - loss: 0.4528 - accuracy: 0.7840 - val_loss: 0.5520 - val_accuracy: 0.7137\n"
     ]
    },
    {
     "data": {
      "text/plain": [
       "<keras.src.callbacks.History at 0x2317c1f2790>"
      ]
     },
     "execution_count": 20,
     "metadata": {},
     "output_type": "execute_result"
    }
   ],
   "source": [
    "# train the model\n",
    "model.fit(train_X, train_seq_Y, epochs=50, batch_size=64, validation_data=(val_X, val_seq_Y))"
   ]
  },
  {
   "cell_type": "code",
   "execution_count": 21,
   "metadata": {},
   "outputs": [
    {
     "name": "stdout",
     "output_type": "stream",
     "text": [
      "Model: \"sequential_6\"\n",
      "_________________________________________________________________\n",
      " Layer (type)                Output Shape              Param #   \n",
      "=================================================================\n",
      " embedding_6 (Embedding)     (None, 50, 64)            16384     \n",
      "                                                                 \n",
      " gru_2 (GRU)                 (None, 32)                9408      \n",
      "                                                                 \n",
      " dense_6 (Dense)             (None, 1)                 33        \n",
      "                                                                 \n",
      "=================================================================\n",
      "Total params: 25825 (100.88 KB)\n",
      "Trainable params: 25825 (100.88 KB)\n",
      "Non-trainable params: 0 (0.00 Byte)\n",
      "_________________________________________________________________\n",
      "None\n"
     ]
    }
   ],
   "source": [
    "# create an GRU model\n",
    "model = Sequential()\n",
    "model.add(Embedding(256, 64, input_length=50))\n",
    "model.add(GRU(32))\n",
    "model.add(Dense(1, activation='sigmoid'))\n",
    "model.compile(optimizer='adam', loss='binary_crossentropy', metrics=['accuracy'])\n",
    "print(model.summary())\n",
    "\n"
   ]
  },
  {
   "cell_type": "code",
   "execution_count": 27,
   "metadata": {},
   "outputs": [
    {
     "name": "stdout",
     "output_type": "stream",
     "text": [
      "Epoch 1/10\n",
      "111/111 [==============================] - 1s 12ms/step - loss: 0.1219 - accuracy: 0.9521 - val_loss: 0.5229 - val_accuracy: 0.8466\n",
      "Epoch 2/10\n",
      "111/111 [==============================] - 1s 11ms/step - loss: 0.1200 - accuracy: 0.9525 - val_loss: 0.4992 - val_accuracy: 0.8630\n",
      "Epoch 3/10\n",
      "111/111 [==============================] - 1s 11ms/step - loss: 0.1203 - accuracy: 0.9545 - val_loss: 0.4508 - val_accuracy: 0.8487\n",
      "Epoch 4/10\n",
      "111/111 [==============================] - 1s 12ms/step - loss: 0.1130 - accuracy: 0.9562 - val_loss: 0.4754 - val_accuracy: 0.8569\n",
      "Epoch 5/10\n",
      "111/111 [==============================] - 2s 15ms/step - loss: 0.1245 - accuracy: 0.9520 - val_loss: 0.4262 - val_accuracy: 0.8712\n",
      "Epoch 6/10\n",
      "111/111 [==============================] - 2s 14ms/step - loss: 0.1170 - accuracy: 0.9535 - val_loss: 0.4108 - val_accuracy: 0.8691\n",
      "Epoch 7/10\n",
      "111/111 [==============================] - 2s 15ms/step - loss: 0.1024 - accuracy: 0.9621 - val_loss: 0.4348 - val_accuracy: 0.8609\n",
      "Epoch 8/10\n",
      "111/111 [==============================] - 2s 14ms/step - loss: 0.1045 - accuracy: 0.9595 - val_loss: 0.5525 - val_accuracy: 0.8487\n",
      "Epoch 9/10\n",
      "111/111 [==============================] - 2s 15ms/step - loss: 0.1073 - accuracy: 0.9571 - val_loss: 0.5100 - val_accuracy: 0.8712\n",
      "Epoch 10/10\n",
      "111/111 [==============================] - 2s 14ms/step - loss: 0.1192 - accuracy: 0.9528 - val_loss: 0.4688 - val_accuracy: 0.8650\n"
     ]
    },
    {
     "data": {
      "text/plain": [
       "<keras.src.callbacks.History at 0x23103bbb190>"
      ]
     },
     "execution_count": 27,
     "metadata": {},
     "output_type": "execute_result"
    }
   ],
   "source": [
    "# train the model\n",
    "model.fit(train_X, train_seq_Y, epochs=100, batch_size=64, validation_data=(val_X, val_seq_Y))"
   ]
  },
  {
   "cell_type": "code",
   "execution_count": 28,
   "metadata": {},
   "outputs": [],
   "source": []
  },
  {
   "cell_type": "code",
   "execution_count": null,
   "metadata": {},
   "outputs": [],
   "source": []
  }
 ],
 "metadata": {
  "kernelspec": {
   "display_name": "Python 3",
   "language": "python",
   "name": "python3"
  },
  "language_info": {
   "codemirror_mode": {
    "name": "ipython",
    "version": 3
   },
   "file_extension": ".py",
   "mimetype": "text/x-python",
   "name": "python",
   "nbconvert_exporter": "python",
   "pygments_lexer": "ipython3",
   "version": "3.11.5"
  }
 },
 "nbformat": 4,
 "nbformat_minor": 2
}
