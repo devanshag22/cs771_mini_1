{
 "cells": [
  {
   "cell_type": "code",
   "execution_count": 20,
   "metadata": {},
   "outputs": [],
   "source": [
    "import numpy as np\n",
    "import pandas as pd"
   ]
  },
  {
   "cell_type": "markdown",
   "metadata": {},
   "source": [
    "# Data reading and Processing"
   ]
  },
  {
   "cell_type": "code",
   "execution_count": 21,
   "metadata": {},
   "outputs": [],
   "source": [
    "train_seq_df = pd.read_csv(\"datasets/train/train_text_seq.csv\")\n",
    "train_seq_X = train_seq_df['input_str']\n",
    "train_seq_Y = train_seq_df['label']\n",
    "valid_seq_df = pd.read_csv(\"datasets/valid/valid_text_seq.csv\")\n",
    "valid_seq_X = valid_seq_df['input_str']\n",
    "valid_seq_Y = valid_seq_df['label']"
   ]
  },
  {
   "cell_type": "code",
   "execution_count": 22,
   "metadata": {},
   "outputs": [],
   "source": [
    "# read emoticon dataset\n",
    "train_emoticon_df = pd.read_csv(\"datasets/train/train_emoticon.csv\")\n",
    "train_emoticon_X = train_emoticon_df['input_emoticon']\n",
    "train_emoticon_Y = train_emoticon_df['label']\n",
    "valid_emoticon_df = pd.read_csv(\"datasets/valid/valid_emoticon.csv\")\n",
    "valid_emoticon_X = valid_emoticon_df['input_emoticon']\n",
    "valid_emoticon_Y = valid_emoticon_df['label']"
   ]
  },
  {
   "cell_type": "code",
   "execution_count": 23,
   "metadata": {},
   "outputs": [],
   "source": [
    "train_feat = np.load(\"datasets/train/train_feature.npz\", allow_pickle=True)\n",
    "train_feat_X = train_feat['features']\n",
    "train_feat_Y = train_feat['label']\n",
    "valid_feat = np.load(\"datasets/valid/valid_feature.npz\", allow_pickle=True)\n",
    "valid_feat_X = valid_feat['features']\n",
    "valid_feat_Y = valid_feat['label']"
   ]
  },
  {
   "cell_type": "code",
   "execution_count": 24,
   "metadata": {},
   "outputs": [],
   "source": [
    "# flatten the features  \n",
    "train_feat_X = np.array([x.flatten() for x in train_feat_X])\n",
    "valid_feat_X = np.array([x.flatten() for x in valid_feat_X])"
   ]
  },
  {
   "cell_type": "code",
   "execution_count": 25,
   "metadata": {},
   "outputs": [],
   "source": [
    "train_seq_X = train_seq_df['input_str'].apply(lambda x: pd.Series(list(x)))\n",
    "train_seq_X.columns = [f'col_{i+1}' for i in range(50)]\n",
    "train_seq_X = train_seq_X.astype(int)\n",
    "valid_seq_X = valid_seq_df['input_str'].apply(lambda x: pd.Series(list(x)))\n",
    "valid_seq_X.columns = [f'col_{i+1}' for i in range(50)]\n",
    "valid_seq_X = valid_seq_X.astype(int)"
   ]
  },
  {
   "cell_type": "code",
   "execution_count": 26,
   "metadata": {},
   "outputs": [
    {
     "name": "stderr",
     "output_type": "stream",
     "text": [
      "c:\\Users\\HP\\AppData\\Local\\Programs\\Python\\Python311\\Lib\\site-packages\\sklearn\\preprocessing\\_encoders.py:868: FutureWarning: `sparse` was renamed to `sparse_output` in version 1.2 and will be removed in 1.4. `sparse_output` is ignored unless you leave `sparse` to its default value.\n",
      "  warnings.warn(\n"
     ]
    }
   ],
   "source": [
    "from sklearn.preprocessing import OneHotEncoder\n",
    "\n",
    "# Create a list of all emojis across the dataset\n",
    "emojis = list(set([emoji for sample in train_emoticon_X for emoji in sample]))\n",
    "\n",
    "# Initialize OneHotEncoder with 'handle_unknown' set to 'ignore' to avoid issues with unseen emojis\n",
    "encoder = OneHotEncoder(categories=[emojis]*13, sparse=False, handle_unknown='ignore')\n",
    "\n",
    "# Convert the dataset (each sample is 13 emojis) into a list of lists (2D array)\n",
    "emoji_sequences = [list(sample) for sample in train_emoticon_X]\n",
    "emoji_sequences_val = [list(sample) for sample in valid_emoticon_X]\n",
    "\n",
    "# Fit the encoder and transform the data\n",
    "train_emoticon_X = encoder.fit_transform(emoji_sequences)\n",
    "valid_emoticon_X = encoder.transform(emoji_sequences_val)\n"
   ]
  },
  {
   "cell_type": "code",
   "execution_count": 27,
   "metadata": {},
   "outputs": [
    {
     "data": {
      "text/plain": [
       "((7080, 2782), (7080, 50), (7080, 9984))"
      ]
     },
     "execution_count": 27,
     "metadata": {},
     "output_type": "execute_result"
    }
   ],
   "source": [
    "train_emoticon_X.shape, train_seq_X.shape, train_feat_X.shape"
   ]
  },
  {
   "cell_type": "code",
   "execution_count": 28,
   "metadata": {},
   "outputs": [],
   "source": [
    "# append the features\n",
    "train_X = np.concatenate([train_seq_X, train_emoticon_X, train_feat_X], axis=1)\n",
    "valid_X = np.concatenate([valid_seq_X, valid_emoticon_X, valid_feat_X], axis=1)"
   ]
  },
  {
   "cell_type": "markdown",
   "metadata": {},
   "source": [
    "# Model Training and Performance Analysis"
   ]
  },
  {
   "cell_type": "code",
   "execution_count": 29,
   "metadata": {},
   "outputs": [
    {
     "name": "stdout",
     "output_type": "stream",
     "text": [
      "Accuracy: 0.9897750511247444\n"
     ]
    }
   ],
   "source": [
    "# apply xgboost for binary classification\n",
    "import xgboost as xgb\n",
    "from sklearn.metrics import accuracy_score\n",
    "\n",
    "model = xgb.XGBClassifier(objective='binary:logistic', n_estimators=1000, seed=42)\n",
    "model.fit(train_X, train_seq_Y)\n",
    "preds = model.predict(valid_X)\n",
    "accuracy = accuracy_score(valid_seq_Y, preds)\n",
    "print(f\"Accuracy: {accuracy}\")"
   ]
  },
  {
   "cell_type": "code",
   "execution_count": 14,
   "metadata": {},
   "outputs": [
    {
     "name": "stdout",
     "output_type": "stream",
     "text": [
      "Accuracy: 0.9815950920245399\n"
     ]
    }
   ],
   "source": [
    "# split into 20,40,60,80,100% training data\n",
    "from sklearn.model_selection import train_test_split\n",
    "from sklearn.metrics import accuracy_score\n",
    "\n",
    "train_X_80, test_X_80, train_Y_80, test_Y_80 = train_test_split(train_X, train_seq_Y, test_size=0.2, random_state=2)\n",
    "model80 = xgb.XGBClassifier(objective='binary:logistic', n_estimators=1000, seed=42)\n",
    "model80.fit(train_X_80, train_Y_80)\n",
    "preds80 = model80.predict(valid_X)\n",
    "accuracy80 = accuracy_score(valid_seq_Y, preds80)\n",
    "print(f\"Accuracy: {accuracy80}\")"
   ]
  },
  {
   "cell_type": "code",
   "execution_count": 15,
   "metadata": {},
   "outputs": [
    {
     "name": "stdout",
     "output_type": "stream",
     "text": [
      "Accuracy: 0.9713701431492843\n"
     ]
    }
   ],
   "source": [
    "train_X_60, test_X_60, train_Y_60, test_Y_60 = train_test_split(train_X, train_seq_Y, test_size=0.4, random_state=2)\n",
    "model60 = xgb.XGBClassifier(objective='binary:logistic', n_estimators=1000, seed=42)\n",
    "model60.fit(train_X_60, train_Y_60)\n",
    "preds60 = model60.predict(valid_X)\n",
    "accuracy60 = accuracy_score(valid_seq_Y, preds60)\n",
    "print(f\"Accuracy: {accuracy60}\")"
   ]
  },
  {
   "cell_type": "code",
   "execution_count": 16,
   "metadata": {},
   "outputs": [
    {
     "name": "stdout",
     "output_type": "stream",
     "text": [
      "Accuracy: 0.9754601226993865\n"
     ]
    }
   ],
   "source": [
    "train_X_40, test_X_40, train_Y_40, test_Y_40 = train_test_split(train_X, train_seq_Y, test_size=0.6, random_state=2)\n",
    "model40 = xgb.XGBClassifier(objective='binary:logistic', n_estimators=1000, seed=42)\n",
    "model40.fit(train_X_40, train_Y_40)\n",
    "preds40 = model40.predict(valid_X)\n",
    "accuracy40 = accuracy_score(valid_seq_Y, preds40)\n",
    "print(f\"Accuracy: {accuracy40}\")"
   ]
  },
  {
   "cell_type": "code",
   "execution_count": 17,
   "metadata": {},
   "outputs": [
    {
     "name": "stdout",
     "output_type": "stream",
     "text": [
      "Accuracy: 0.9468302658486708\n"
     ]
    }
   ],
   "source": [
    "train_X_20, test_X_20, train_Y_20, test_Y_20 = train_test_split(train_X, train_seq_Y, test_size=0.8, random_state=2)\n",
    "model20 = xgb.XGBClassifier(objective='binary:logistic', n_estimators=1000, seed=42)\n",
    "model20.fit(train_X_20, train_Y_20)\n",
    "preds20 = model20.predict(valid_X)\n",
    "accuracy20 = accuracy_score(valid_seq_Y, preds20)\n",
    "print(f\"Accuracy: {accuracy20}\")"
   ]
  },
  {
   "cell_type": "markdown",
   "metadata": {},
   "source": [
    "# Predicting on test data"
   ]
  },
  {
   "cell_type": "code",
   "execution_count": 18,
   "metadata": {},
   "outputs": [],
   "source": [
    "# load test data and predict\n",
    "test_seq_X = pd.read_csv(\"datasets/test/test_text_seq.csv\")\n",
    "test_emoticon_X = pd.read_csv(\"datasets/test/test_emoticon.csv\")\n",
    "test_feat_X = np.load(\"datasets/test/test_feature.npz\", allow_pickle=True)"
   ]
  },
  {
   "cell_type": "code",
   "execution_count": 19,
   "metadata": {},
   "outputs": [],
   "source": [
    "test_feat_X = np.array([x.flatten() for x in test_feat_X['features']])"
   ]
  },
  {
   "cell_type": "code",
   "execution_count": 30,
   "metadata": {},
   "outputs": [],
   "source": [
    "emoji_sequences_test = [list(sample) for sample in test_emoticon_X['input_emoticon']]\n",
    "test_emoticon_X = encoder.transform(emoji_sequences_test)"
   ]
  },
  {
   "cell_type": "code",
   "execution_count": 31,
   "metadata": {},
   "outputs": [],
   "source": [
    "test_seq_X = test_seq_X['input_str'].apply(lambda x: pd.Series(list(x)))\n",
    "test_seq_X.columns = [f'col_{i+1}' for i in range(50)]\n",
    "test_seq_X = test_seq_X.astype(int)"
   ]
  },
  {
   "cell_type": "code",
   "execution_count": 35,
   "metadata": {},
   "outputs": [],
   "source": [
    "test_X = np.concatenate([test_seq_X, test_emoticon_X, test_feat_X], axis=1)"
   ]
  },
  {
   "cell_type": "code",
   "execution_count": 39,
   "metadata": {},
   "outputs": [],
   "source": [
    "preds_test = model.predict(test_X)\n",
    "# save preds_test to txt file\n",
    "np.savetxt(\"pred_combined.txt\", preds_test, fmt=\"%d\")"
   ]
  },
  {
   "cell_type": "code",
   "execution_count": null,
   "metadata": {},
   "outputs": [],
   "source": []
  }
 ],
 "metadata": {
  "kernelspec": {
   "display_name": "Python 3",
   "language": "python",
   "name": "python3"
  },
  "language_info": {
   "codemirror_mode": {
    "name": "ipython",
    "version": 3
   },
   "file_extension": ".py",
   "mimetype": "text/x-python",
   "name": "python",
   "nbconvert_exporter": "python",
   "pygments_lexer": "ipython3",
   "version": "3.11.5"
  }
 },
 "nbformat": 4,
 "nbformat_minor": 2
}
